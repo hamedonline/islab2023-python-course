{
 "cells": [
  {
   "attachments": {},
   "cell_type": "markdown",
   "metadata": {},
   "source": [
    "## Functions"
   ]
  },
  {
   "cell_type": "code",
   "execution_count": null,
   "metadata": {},
   "outputs": [],
   "source": [
    "# use \"def\" keyword to create defining new functions\n",
    "# use indentation to indicate where the function starts and ends\n",
    "\n",
    "def formula_function(x):\n",
    "    result = (x**2) + 3\n",
    "    return result"
   ]
  },
  {
   "cell_type": "code",
   "execution_count": null,
   "metadata": {},
   "outputs": [],
   "source": [
    "formula_function(4)"
   ]
  },
  {
   "attachments": {},
   "cell_type": "markdown",
   "metadata": {},
   "source": [
    "### Default Parameter Value"
   ]
  },
  {
   "cell_type": "code",
   "execution_count": null,
   "metadata": {},
   "outputs": [],
   "source": [
    "def formula_function(x=5):\n",
    "    return (x**2) + 3\n",
    "\n",
    "formula_function(3)"
   ]
  },
  {
   "cell_type": "code",
   "execution_count": null,
   "metadata": {},
   "outputs": [],
   "source": [
    "formula_function()"
   ]
  },
  {
   "cell_type": "code",
   "execution_count": null,
   "metadata": {},
   "outputs": [],
   "source": [
    "def power_function(x, n):\n",
    "    return (x**n)"
   ]
  },
  {
   "cell_type": "code",
   "execution_count": null,
   "metadata": {},
   "outputs": [],
   "source": [
    "power_function(2,3)"
   ]
  },
  {
   "cell_type": "code",
   "execution_count": null,
   "metadata": {},
   "outputs": [],
   "source": [
    "power_function()"
   ]
  },
  {
   "cell_type": "code",
   "execution_count": null,
   "metadata": {},
   "outputs": [],
   "source": [
    "try:\n",
    "    power_function()\n",
    "except:\n",
    "    print(\"error occurred\")"
   ]
  },
  {
   "cell_type": "code",
   "execution_count": null,
   "metadata": {},
   "outputs": [],
   "source": [
    "def power_function(x=2, n=3):\n",
    "    return (x**n)"
   ]
  },
  {
   "cell_type": "code",
   "execution_count": null,
   "metadata": {},
   "outputs": [],
   "source": [
    "power_function()"
   ]
  },
  {
   "cell_type": "code",
   "execution_count": null,
   "metadata": {},
   "outputs": [],
   "source": [
    "def power_function(x, n=2):\n",
    "    return (x**n)"
   ]
  },
  {
   "cell_type": "code",
   "execution_count": null,
   "metadata": {},
   "outputs": [],
   "source": [
    "power_function(3)"
   ]
  },
  {
   "attachments": {},
   "cell_type": "markdown",
   "metadata": {},
   "source": [
    "**Important Note**: Function parameters that have a default value, should only come after the parameters having no default values. If any non-default parameter follows a default parameter in function definition, you'll get an error."
   ]
  },
  {
   "attachments": {},
   "cell_type": "markdown",
   "metadata": {},
   "source": [
    "**Number of Arguments**\n",
    "\n",
    "By default, a function must be called with the correct number of arguments (determined by the number of parameters in its definition).\n",
    "\n",
    "Meaning that if your function expects 2 arguments, you have to call the function with 2 arguments, not more, and not less. If you try to call the function with 1 or 3 arguments, you will get an error."
   ]
  },
  {
   "attachments": {},
   "cell_type": "markdown",
   "metadata": {},
   "source": [
    "### Functions That Don't Return\n",
    "What would happen if we didn't include the `return` keyword in our function?\n",
    "\n",
    "Python allows us to define such functions. The result of calling them is the special value **`None`** (This is similar to the concept of `null` in other languages)."
   ]
  },
  {
   "cell_type": "code",
   "execution_count": null,
   "metadata": {},
   "outputs": [],
   "source": [
    "def no_return_function(a, b):\n",
    "    c = a + b\n",
    "\n",
    "print(no_return_function(2,8))"
   ]
  },
  {
   "attachments": {},
   "cell_type": "markdown",
   "metadata": {},
   "source": [
    "### The Pass Statement\n",
    "Function definitions cannot be empty, but if you for some reason have a function definition with no content, put in the **pass** statement."
   ]
  },
  {
   "cell_type": "code",
   "execution_count": null,
   "metadata": {},
   "outputs": [],
   "source": [
    "def blank_fn():\n",
    "    pass"
   ]
  },
  {
   "attachments": {},
   "cell_type": "markdown",
   "metadata": {},
   "source": [
    "### Multiple Return Values"
   ]
  },
  {
   "cell_type": "code",
   "execution_count": null,
   "metadata": {},
   "outputs": [],
   "source": [
    "# returning multiple values (with tuple assignments)\n",
    "def multi_return_fn(a, b):\n",
    "    val1 = a**2\n",
    "    val2 = b**5\n",
    "    return val1, val2 # return multiple values as a tuple without the parenthesis"
   ]
  },
  {
   "cell_type": "code",
   "execution_count": null,
   "metadata": {},
   "outputs": [],
   "source": [
    "multi_return_fn(5, 8)"
   ]
  },
  {
   "cell_type": "code",
   "execution_count": null,
   "metadata": {},
   "outputs": [],
   "source": [
    "type(multi_return_fn(5, 8))"
   ]
  },
  {
   "attachments": {},
   "cell_type": "markdown",
   "metadata": {},
   "source": [
    "### Arbitrary Arguments, \\*args\n",
    "\n",
    "To handle an arbitrary number of arguments in your function, use a `*` before the parameter name in the function definition. This is commonly called **'args'** by most programmers.\n",
    "\n",
    "This way the function will receive a **Tuple** of arguments, which can be accessed by using _args_ term and index number accordingly: __`args[index]`__"
   ]
  },
  {
   "cell_type": "code",
   "execution_count": null,
   "metadata": {},
   "outputs": [],
   "source": [
    "# you can define functions that take a varying number of positional arguments :: notice single asterisk (*) before 'args' term\n",
    "def my_function_args(*args):\n",
    "    print(type(args), args)\n",
    "    print(args[-1])\n",
    "\n",
    "my_function_args(1, 2, 3)"
   ]
  },
  {
   "attachments": {},
   "cell_type": "markdown",
   "metadata": {},
   "source": [
    "### Arbitrary Keyword Arguments, \\*\\*kwargs\n",
    "\n",
    "To handle an arbitrary number of keyword arguments in your function, use two asterisks: `**` before the parameter name in the function definition. This is commonly called **'kwargs'** by most programmers.\n",
    "\n",
    "This way the function will receive a **Dictionary** of arguments, and its items can be accessed the using _kwargs_ term and key (argument name here) accordingly: __`kwargs['argument_name']`__."
   ]
  },
  {
   "cell_type": "code",
   "execution_count": null,
   "metadata": {},
   "outputs": [],
   "source": [
    "# you can also define functions that take a varying number of keyword arguments as well :: notice double asterisks (**) before 'kwargs' term\n",
    "def my_function_kwargs(**kwargs):\n",
    "    print(type(kwargs), kwargs)\n",
    "\n",
    "my_function_kwargs(arg_1=\"value 1\", arg_2=\"value 2\")"
   ]
  },
  {
   "cell_type": "code",
   "execution_count": null,
   "metadata": {},
   "outputs": [],
   "source": [
    "# you can do both at once, if you like\n",
    "def all_the_args(*args, **kwargs):\n",
    "    print(args)\n",
    "    print(kwargs)\n",
    "    print(kwargs.keys())\n",
    "\n",
    "all_the_args(2.5, False, arg_3=\"value 3\", arg_4=\"value 4\")"
   ]
  },
  {
   "cell_type": "markdown",
   "metadata": {},
   "source": [
    "### Functions as Function Arguments\n",
    "Python allows you to pass a function name as an argument when calling another function."
   ]
  },
  {
   "cell_type": "code",
   "execution_count": null,
   "metadata": {},
   "outputs": [],
   "source": [
    "def single_call(fn, arg):\n",
    "    return fn(arg)\n",
    "\n",
    "def double_call(fn, arg):\n",
    "    return fn(fn(arg))\n",
    "\n",
    "\n",
    "\n",
    "def calculate_root(value):\n",
    "    return value ** 0.5"
   ]
  },
  {
   "cell_type": "code",
   "execution_count": null,
   "metadata": {},
   "outputs": [],
   "source": [
    "single_call(calculate_root, 49)"
   ]
  },
  {
   "cell_type": "code",
   "execution_count": null,
   "metadata": {},
   "outputs": [],
   "source": [
    "double_call(calculate_root, 49)"
   ]
  },
  {
   "cell_type": "markdown",
   "metadata": {},
   "source": [
    "### Nested Functions"
   ]
  },
  {
   "cell_type": "code",
   "execution_count": null,
   "metadata": {},
   "outputs": [],
   "source": [
    "def factorial(number):\n",
    "    # validate input\n",
    "    if not isinstance(number, int):\n",
    "        raise TypeError(\"Sorry. 'number' must be an integer.\")\n",
    "    if number < 0:\n",
    "        raise ValueError(\"Sorry. 'number' must be zero or positive.\")\n",
    "\n",
    "    # calculate the factorial of number\n",
    "    def inner_factorial(number):\n",
    "        if number <= 1:\n",
    "            return 1\n",
    "        return number * inner_factorial(number - 1)\n",
    "\n",
    "    return inner_factorial(number)\n",
    "\n",
    "\n",
    "\n",
    "factorial(8)"
   ]
  },
  {
   "attachments": {},
   "cell_type": "markdown",
   "metadata": {},
   "source": [
    "### Variable Scopes"
   ]
  },
  {
   "cell_type": "code",
   "execution_count": null,
   "metadata": {},
   "outputs": [],
   "source": [
    "def sample_fn(x):\n",
    "    print(x)\n",
    "\n",
    "\n",
    "sample_fn(2)"
   ]
  },
  {
   "cell_type": "code",
   "execution_count": null,
   "metadata": {},
   "outputs": [],
   "source": [
    "def sample_fn(x):\n",
    "    x = 5\n",
    "    print(x)\n",
    "\n",
    "\n",
    "sample_fn(2)"
   ]
  },
  {
   "cell_type": "code",
   "execution_count": null,
   "metadata": {},
   "outputs": [],
   "source": [
    "def sample_fn(x):\n",
    "    x = x**5\n",
    "    print(x)\n",
    "\n",
    "\n",
    "sample_fn(2)"
   ]
  },
  {
   "cell_type": "code",
   "execution_count": null,
   "metadata": {},
   "outputs": [],
   "source": [
    "def sample_fn(x):\n",
    "    print('inside function:', x**5)\n",
    "\n",
    "\n",
    "x = 9\n",
    "sample_fn(x)\n",
    "print(x)"
   ]
  },
  {
   "cell_type": "markdown",
   "metadata": {},
   "source": [
    "In contrast to \"inside of a function\" scope, we have \"global\" scope in Python. Variables that are not defined inside any function, fall under this global scope.\n",
    "\n",
    "We can use `global` keyword in Python to have access to access the variables in the global scope. Another equivalent keyword, `nonlocal`, can be used for the same purpose."
   ]
  },
  {
   "cell_type": "code",
   "execution_count": null,
   "metadata": {},
   "outputs": [],
   "source": [
    "x = 5\n",
    "\n",
    "def some_function():\n",
    "    global x\n",
    "    x += 1\n",
    "    print(\"Inside call: x =\", x, sep=' ')\n",
    "\n",
    "\n",
    "some_function()\n",
    "print(\"Outside call: x =\", x, sep=' ')"
   ]
  },
  {
   "cell_type": "code",
   "execution_count": null,
   "metadata": {},
   "outputs": [],
   "source": [
    "def a_sample_fn():\n",
    "    x = 5\n",
    "    def an_inside_fn():\n",
    "        nonlocal x\n",
    "        x += 1\n",
    "        print(\"Inner fn call: x =\", x, sep=' ')\n",
    "    \n",
    "    an_inside_fn()\n",
    "    print(\"fn call: x =\", x, sep=' ')\n",
    "\n",
    "\n",
    "a_sample_fn()"
   ]
  },
  {
   "cell_type": "markdown",
   "metadata": {},
   "source": [
    "**Note:** Accessing some variable which is defined outside a function is not recommended. Stay away fro using globals."
   ]
  },
  {
   "cell_type": "code",
   "execution_count": null,
   "metadata": {},
   "outputs": [],
   "source": [
    "def one_more_test_fn(x):\n",
    "    x.append(3)\n",
    "    print(x)\n",
    "\n",
    "\n",
    "x = [1, 2]\n",
    "\n",
    "one_more_test_fn(x)\n",
    "print(x)"
   ]
  },
  {
   "cell_type": "code",
   "execution_count": null,
   "metadata": {},
   "outputs": [],
   "source": [
    "def one_more_test_fn(x):\n",
    "    x = list(x)\n",
    "    x.append(3)\n",
    "    print(x)\n",
    "\n",
    "\n",
    "x = [1, 2]\n",
    "\n",
    "one_more_test_fn(x)\n",
    "print(x)"
   ]
  },
  {
   "attachments": {},
   "cell_type": "markdown",
   "metadata": {},
   "source": [
    "### Call by Reference / Value\n",
    "\n",
    "**Are Python function arguments considered call by reference or call by value?**\n",
    "\n",
    "Short answer is: **both!**\n",
    "\n",
    "Python follows the idea of **\"Call by Object Reference\"** or **\"Call by Assignment\"**.\n",
    "\n",
    "If you pass **immutable** objects such as Numbers, Strings or Tuples to a function, the passing is treated as **\"call by value\"**, since it is not possible to change the value of those objects.\n",
    "\n",
    "On the other hand, passing **mutable** objects can be regarded as **\"call by reference\"**. Changing their values inside the function results in a change on the main object, since we have a reference type of call for mutable objects in Python.\n",
    "\n",
    "So, **be careful** what you pass in, and what you do with passed-in values inside a function.\n",
    "\n",
    "**Examples:**"
   ]
  },
  {
   "cell_type": "code",
   "execution_count": null,
   "metadata": {},
   "outputs": [],
   "source": [
    "# passing an immutable object\n",
    "\n",
    "def test_fn(input_value):\n",
    "    input_value = input_value + \" Modified from inside!\"\n",
    "    print(input_value)\n",
    "\n",
    "\n",
    "outside_string = \"I'm outside!\"\n",
    "\n",
    "test_fn(outside_string)\n",
    "print(outside_string)"
   ]
  },
  {
   "cell_type": "code",
   "execution_count": null,
   "metadata": {},
   "outputs": [],
   "source": [
    "# passing a mutable object\n",
    "\n",
    "def test_fn(list_var):\n",
    "    list_var.append('new item from inside!')\n",
    "    print(\"Inside List:\", list_var)\n",
    "\n",
    "\n",
    "my_list = [1,2,3]\n",
    "  \n",
    "test_fn(my_list)\n",
    "print(\"Outside List:\", my_list)"
   ]
  },
  {
   "cell_type": "code",
   "execution_count": null,
   "metadata": {},
   "outputs": [],
   "source": [
    "def test_fn(list_var):\n",
    "    list_var[0] = 'modified item from inside!'\n",
    "    print(\"Inside List:\", list_var)\n",
    "\n",
    "\n",
    "my_list = [1,2,3]\n",
    "\n",
    "test_fn(my_list)\n",
    "print(\"Outside List:\", my_list)"
   ]
  },
  {
   "cell_type": "code",
   "execution_count": null,
   "metadata": {},
   "outputs": [],
   "source": [
    "import copy\n",
    "\n",
    "def test_fn(list_var):\n",
    "    list_var = copy.deepcopy(list_var) # create a real copy of the mutable input parameter\n",
    "    list_var[0] = 'new item from inside!'\n",
    "    print(\"Inside List:\", list_var)\n",
    "\n",
    "\n",
    "my_list = [1,2,3]\n",
    "\n",
    "test_fn(my_list)\n",
    "print(\"Outside List:\", my_list)"
   ]
  },
  {
   "cell_type": "code",
   "execution_count": null,
   "metadata": {},
   "outputs": [],
   "source": [
    "inline_calculation_fn = lambda x,y,z: (x ** y) ** z\n",
    "\n",
    "inline_calculation_fn(2,3,5)"
   ]
  },
  {
   "cell_type": "code",
   "execution_count": null,
   "metadata": {},
   "outputs": [],
   "source": [
    "list(map(lambda x: x ** 2, [1, 2, 3]))\n"
   ]
  },
  {
   "cell_type": "markdown",
   "metadata": {},
   "source": [
    "### Lambda Functions\n",
    "\n",
    "A lambda function is a simple one-line anonymous function in Python. It allows you to create small functions inline without defining them.\n",
    "\n",
    "The basic syntax of a lambda function is:\n",
    "\n",
    "```python\n",
    "lambda argument(s): expression\n",
    "```\n",
    "\n",
    "- argument(s): function inputs\n",
    "\n",
    "- expression: one-line _action_ on argument(s)\n",
    "\n",
    "For example, a simple lambda function that adds two numbers is:\n",
    "\n",
    "```python\n",
    "lambda x, y: x + y\n",
    "```\n",
    "\n",
    "You can call a lambda function like a normal function by passing arguments, in-line:\n",
    "\n",
    "```python\n",
    "result = (lambda x, y: x + y)(2, 3)\n",
    "print(result)\n",
    "# prints 5\n",
    "```\n",
    "\n",
    "You may assign them a name and call later:\n",
    "\n",
    "```python\n",
    "inline_calculation_fn = lambda x,y,z: (x ** y) ** z\n",
    "\n",
    "inline_calculation_fn(2,3,4)\n",
    "# returns 4096\n",
    "```\n",
    "\n",
    "Lambda functions are useful when you want to pass a small function as an argument to another function. For example, you can use a lambda function with the `map()` function like this:\n",
    "\n",
    "```python\n",
    "list(map(lambda x: x ** 2, [1, 2, 3]))\n",
    "# returns [1, 4, 9]\n",
    "```\n",
    "\n",
    "Here we pass a lambda function that multiplies the number by 2 to the map() function.\n",
    "\n",
    "Some limitations of lambda functions are:\n",
    "\n",
    "- They can contain only a single expression\n",
    "- They cannot contain multiple statements or have scope\n",
    "- They cannot have a docstring\n",
    "\n",
    "So in general, for functions that are more than a single line, it is better to define a regular function using the `def` keyword.\n",
    "\n",
    "Lambda functions shine when you need to make a small, one-line function, especially when passing a function as an argument to another **higher-order functions** such as `max()`, `min()`, `map()`, `filter()` or `reduce()`. The compact syntax of lambda functions makes the code more readable in these cases.\n"
   ]
  },
  {
   "cell_type": "code",
   "execution_count": null,
   "metadata": {},
   "outputs": [],
   "source": [
    "(lambda x: x > 2) (3)"
   ]
  },
  {
   "cell_type": "code",
   "execution_count": null,
   "metadata": {},
   "outputs": [],
   "source": [
    "(lambda x, y: x ** 3 + y ** 2) (2, 1)"
   ]
  },
  {
   "cell_type": "code",
   "execution_count": null,
   "metadata": {},
   "outputs": [],
   "source": [
    "list( filter( (lambda x: x > 5), range(3,8) ) )"
   ]
  },
  {
   "cell_type": "markdown",
   "metadata": {},
   "source": [
    "### More Useful Built-in Functions"
   ]
  },
  {
   "cell_type": "markdown",
   "metadata": {},
   "source": [
    "#### `map()`\n",
    "\n",
    "The `map()` function in Python applies a given function to each element of an iterable (`list`, `tuple`, etc.) and returns an iterator with the results.\n",
    "\n",
    "The `type` of returned iterable is a map object which can be converted back to an iterable.\n",
    "\n",
    "The syntax for using `map()` function looks like this: \n",
    "\n",
    "`list( map(function, iterable) )`"
   ]
  },
  {
   "cell_type": "code",
   "execution_count": null,
   "metadata": {},
   "outputs": [],
   "source": [
    "# a simple one-liner circle area finder using map()\n",
    "\n",
    "import math\n",
    "\n",
    "radius = [1, 2, 3]\n",
    "area = list(map(lambda x: round(math.pi*(x**2), 4), radius))\n",
    "\n",
    "area"
   ]
  },
  {
   "cell_type": "markdown",
   "metadata": {},
   "source": [
    "The `map()` function is useful when you want to apply the same function to all elements of an iterable without using an explicit `for` loop. However, **comprehensions** are often recommended over `map()` for readability, whenever possible."
   ]
  },
  {
   "cell_type": "markdown",
   "metadata": {},
   "source": [
    "#### `zip()`\n",
    "\n",
    "The zip() function in Python is used to combine multiple iterables into a single **iterable of tuples** where the elements are paired index-wise. This would allow us to iterate over multiple iterables in parallel."
   ]
  },
  {
   "cell_type": "code",
   "execution_count": null,
   "metadata": {},
   "outputs": [],
   "source": [
    "# multiple iterables with some values\n",
    "fruits = ['apple', 'watermelon', \"banana\", \"strawberry\"]\n",
    "quantities = [5, 3, 4, 2]\n",
    "prices = [1.50, 2.25, 0.9, 1.75]\n",
    "\n",
    "# zipping them together\n",
    "order_info = zip(fruits, quantities, prices)\n",
    "\n",
    "# casting the zip object into a List of Tuples\n",
    "list(order_info)"
   ]
  },
  {
   "cell_type": "code",
   "execution_count": null,
   "metadata": {},
   "outputs": [],
   "source": [
    "# using zip() for parallel iteration\n",
    "for fruit_name, amount, price in zip(fruits, quantities, prices):\n",
    "    fruit_value = amount * price\n",
    "    print(\n",
    "        f\"{fruit_name}: ${fruit_value:.2f}\"\n",
    "    )"
   ]
  },
  {
   "cell_type": "code",
   "execution_count": null,
   "metadata": {},
   "outputs": [],
   "source": [
    "# zip() function stops iterating when the shortest iterable is exhausted\n",
    "\n",
    "sample_list = list(range(20,31))\n",
    "sample_string = 'Pythonic'\n",
    "print(list(zip(sample_list, sample_string)))"
   ]
  },
  {
   "cell_type": "markdown",
   "metadata": {},
   "source": [
    "## Type Hinting\n",
    "\n",
    "So far we haven't specified any **\"types\"** while declaring variable or object. Types make our code cleaner and help us keep away from making some logical errors during coding.\n",
    "\n",
    "The best place to check extended examples is:\n",
    "- https://docs.python.org/3/library/typing.html"
   ]
  },
  {
   "cell_type": "code",
   "execution_count": null,
   "metadata": {},
   "outputs": [],
   "source": [
    "# basic data types type hinting\n",
    "\n",
    "a: int = 10\n",
    "\n",
    "student_count: int = 10\n",
    "\n",
    "average_score: float = 9.56\n",
    "\n",
    "very_small_value: float = 1e-7\n",
    "\n",
    "our_motto: str = 'We are Python Enthusiasts!'\n",
    "\n",
    "covid_is_dangerous: bool = True"
   ]
  },
  {
   "cell_type": "code",
   "execution_count": null,
   "metadata": {},
   "outputs": [],
   "source": [
    "# composite data types type hinting\n",
    "\n",
    "we_are: list = ['engineers', 'python learners']\n",
    "\n",
    "fruits: tuple = (\"apple\", \"lemon\", \"cherry\")\n",
    "\n",
    "new_club_member: dict = {\n",
    "    \"name\": \"Mehrdad\",\n",
    "    \"birth_date\": \"11/29/2001\",\n",
    "    \"rating\": 9.5,\n",
    "    \"memberships\": [\"gym\", \"pool\", \"aerobics\"]\n",
    "}\n",
    "\n",
    "my_skillset: set = {'engineering principles', 'programming'}"
   ]
  },
  {
   "cell_type": "markdown",
   "metadata": {},
   "source": [
    "### Combinations for Arrays\n",
    "\n"
   ]
  },
  {
   "cell_type": "code",
   "execution_count": null,
   "metadata": {},
   "outputs": [],
   "source": [
    "# on Python 3.9+\n",
    "\n",
    "array_var_tpl: tuple[float, float] = (4.8, 9.7)\n",
    "\n",
    "array_var_int: list[int, ...] = [4, 6, 9]\n",
    "\n",
    "array_var_flt: tuple[float, ...] = [4.1, 6.8, 9.3, 5.4]\n",
    "\n",
    "array_sample_dict: dict[str, list[float, ...]] = {\n",
    "    'key1': [3.8, 7.9],\n",
    "    'key2': [2.3, 4.1, 6.7, 8.99]\n",
    "}"
   ]
  },
  {
   "cell_type": "code",
   "execution_count": null,
   "metadata": {},
   "outputs": [],
   "source": [
    "# on Python 3.10+\n",
    "\n",
    "from typing import TypeAlias\n",
    "\n",
    "Vector: TypeAlias = list[int, ...]\n",
    "\n",
    "array_var_int: Vector = [4, 6, 9]"
   ]
  },
  {
   "cell_type": "code",
   "execution_count": null,
   "metadata": {},
   "outputs": [],
   "source": [
    "# older versions of Python 3\n",
    "\n",
    "from typing import List, Tuple, Dict\n",
    "\n",
    "array_var_tpl: Tuple[float, float] = (4.8, 9.7)\n",
    "\n",
    "array_var_int: List[int] = [4, 6, 9]\n",
    "\n",
    "array_var_flt: Tuple[float] = [4.1, 6.8, 9.3, 5.4]\n",
    "\n",
    "array_sample: Dict[str, List[float]] = {\n",
    "    'key1': [3.8, 7.9],\n",
    "    'key2': [2.3, 4.1, 6.7, 8.99]\n",
    "}"
   ]
  },
  {
   "cell_type": "markdown",
   "metadata": {},
   "source": [
    "### Multi-type Declaration"
   ]
  },
  {
   "cell_type": "code",
   "execution_count": null,
   "metadata": {},
   "outputs": [],
   "source": [
    "# import helper module to handle multi-type declarations\n",
    "from typing import Union\n",
    "\n",
    "\n",
    "# on Python 3.10+\n",
    "sample_num_var: int | float = 9.99\n",
    "print(sample_num_var)\n",
    "\n",
    "# on Python 3.9+\n",
    "sample_num_var: Union[int, float] = 9\n",
    "print(sample_num_var)"
   ]
  },
  {
   "cell_type": "code",
   "execution_count": null,
   "metadata": {},
   "outputs": [],
   "source": [
    "# list of integers, or list of strings\n",
    "\n",
    "# on Python 3.10+\n",
    "sample_var_: Union[list[str, ...], list[int, ...]] = ['a', 'b', 'c']\n",
    "print(sample_var_)\n",
    "\n",
    "# on Python 3.9+\n",
    "sample_var_: Union[List[str], List[int]] = [11, 15]\n",
    "print(sample_var_)"
   ]
  },
  {
   "cell_type": "markdown",
   "metadata": {},
   "source": [
    "### Type Hinting in Functions"
   ]
  },
  {
   "cell_type": "code",
   "execution_count": null,
   "metadata": {},
   "outputs": [],
   "source": [
    "def sample_fn(num_f: float, num_i: int = 0) -> float:\n",
    "    \"\"\"The heading introduction for function goes here.\n",
    "\n",
    "    You can add More explanation about your function's specifications.\n",
    "\n",
    "    Args:\n",
    "        num_f (float): explanation about the first input.\n",
    "        num_i (int, optional): explanation about the second input, default 0.\n",
    "\n",
    "    Returns:\n",
    "        float: explanation abut the return value.\n",
    "    \"\"\"\n",
    "    return num_f * num_i"
   ]
  },
  {
   "cell_type": "code",
   "execution_count": null,
   "metadata": {},
   "outputs": [],
   "source": [
    "from typing import Optional\n",
    "\n",
    "\n",
    "def print_welcome_message(name: Optional[str] = None) -> None:\n",
    "    \"\"\"Prints a hello message containing an optional input name.\n",
    "\n",
    "    Args:\n",
    "        name (str, optional): custom name for welcome message.\n",
    "\n",
    "    Returns:\n",
    "        None\n",
    "    \"\"\"\n",
    "    welcome_msg_start: str = \"Hello dear\"\n",
    "    if name is None:\n",
    "        print(\"Welcome!\")\n",
    "    else:\n",
    "        print(f\"{welcome_msg_start} {name} !\")"
   ]
  }
 ],
 "metadata": {
  "kernelspec": {
   "display_name": "base",
   "language": "python",
   "name": "python3"
  },
  "language_info": {
   "codemirror_mode": {
    "name": "ipython",
    "version": 3
   },
   "file_extension": ".py",
   "mimetype": "text/x-python",
   "name": "python",
   "nbconvert_exporter": "python",
   "pygments_lexer": "ipython3",
   "version": "3.10.12"
  },
  "orig_nbformat": 4,
  "vscode": {
   "interpreter": {
    "hash": "e4cce46d6be9934fbd27f9ca0432556941ea5bdf741d4f4d64c6cd7f8dfa8fba"
   }
  }
 },
 "nbformat": 4,
 "nbformat_minor": 2
}
