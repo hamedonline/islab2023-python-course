{
 "cells": [
  {
   "cell_type": "markdown",
   "metadata": {},
   "source": [
    "# Installing Python\n",
    "There are many ways to install a specific Python version along with desired packages. If you're in hurry, you can even launch [Google Colab](https://colab.google/) with your google account for free and you're immediately good to go with a ready environment to run Python commands. But, it is always a wise option to have Python set up in your local machine, just in case."
   ]
  },
  {
   "cell_type": "markdown",
   "metadata": {
    "collapsed": false
   },
   "source": [
    "## Approach 1:\n",
    "\n",
    "Here we explain how to install Python at a system level, which is not suggested by the way, due to possible conflicts with the default Python installations on OS (mostly Linux). A better alternative is [Approach 2](#approach2) that is discussed below."
   ]
  },
  {
   "cell_type": "markdown",
   "metadata": {},
   "source": [
    "### Unix and Linux Installation\n",
    "- Open a Web browser and go to [this link](https://www.python.org/downloads/).\n",
    "- Follow the link to download the *zipped source code* available for Unix/Linux.\n",
    "- Download and extract files.\n",
    "- Editing the Modules/Setup file if you want to customize some options.\n",
    "\n",
    "```shell\n",
    "run ./configure script\n",
    "make\n",
    "make install\n",
    "```\n",
    "\n",
    "This installs Python at standard location /usr/local/bin and its libraries at /usr/local/lib/pythonXX where XX is the version of Python.\n",
    "\n",
    "**Red Hat Enterprise Linux (RHEL 8)**\n",
    "\n",
    "```shell\n",
    "sudo yum install python3\n",
    "```\n",
    "\n",
    "#### Setting up Path\n",
    "Before using the following code you can find useful information in [this link](https://realpython.com/add-python-to-path/) and [this link](https://www.tutorialspoint.com/python3/python_environment.htm). Once again, it is not a good idea to install python on your whole system and set up a path for it.\n",
    "\n",
    "```shell\n",
    "echo export PATH=\"<PATH_TO_PYTHON>:$PATH\" >> ~/.profile\n",
    "```\n",
    "\n",
    "### Environment Management\n",
    "\n",
    "**Installing virtualenv:**\n",
    "\n",
    "```shell\n",
    "python3 -m pip install --user virtualenv\n",
    "```\n",
    "\n",
    "**Creating a Virtual Environment:**\n",
    "\n",
    "```shell\n",
    "python3 -m venv venv_name\n",
    "```\n",
    "\n",
    "**Activating a Virtual Environment:**\n",
    "\n",
    "```shell\n",
    "source venv_name/bin/activate\n",
    "```\n",
    "\n",
    "**Installing Packages:**\n",
    "\n",
    "```shell\n",
    "python3 -m pip install package_name\n",
    "```\n",
    "\n",
    "**Leaving the Virtual Environment:**\n",
    "\n",
    "```shell\n",
    "deactivate\n",
    "```"
   ]
  },
  {
   "cell_type": "markdown",
   "metadata": {
    "collapsed": false
   },
   "source": [
    "### Windows Installation\n",
    "- Open a Web browser and go to [this link](https://www.python.org/downloads/).\n",
    "- Follow the link for the Windows installer python-XYZ.exe file where XYZ is the version you need to install.\n",
    "- To use this installer python-XYZ.exe, the Windows system must support Microsoft Installer 2.0. Save the installer file to your local machine and then run it to find out if your machine supports MSI.\n",
    "- Run the downloaded file. This brings up the Python install wizard, which is really easy to use. Just accept the default settings, wait until the installation is finished, and you are done.\n",
    "-  To set Python to the Windows path, mark the “Add Python XYZ to PATH” checkbox and hit the “Install Now” option.\n",
    "\n",
    "#### Setting up Path\n",
    "Before using the following code you can find useful information in [this link](https://linuxhint.com/add-python-windows-path/) and [this link](https://www.tutorialspoint.com/python3/python_environment.htm). Once again, it is not a good idea to install python on your whole system and set up a path for it.\n",
    "\n",
    "```shell\n",
    "set Path=%Path%;C:\\<PATH_TO_PYTHON>\n",
    "```\n",
    "\n",
    "### Environment Management\n",
    "\n",
    "**Installing virtualenv:**\n",
    "```shell\n",
    "python -m pip install --user virtualenv\n",
    "```\n",
    "\n",
    "**Creating a Virtual Environment:**\n",
    "```shell\n",
    "python -m venv venv_name\n",
    "```\n",
    "\n",
    "**Activating a Virtual Environment:**\n",
    "```shell\n",
    ".\\venv_name\\Scripts\\activate\n",
    "```\n",
    "\n",
    "**Installing Packages:**\n",
    "```shell\n",
    "python -m pip install package_name\n",
    "```\n",
    "\n",
    "**Leaving the Virtual Environment:**\n",
    "```shell\n",
    "deactivate\n",
    "```"
   ]
  },
  {
   "cell_type": "markdown",
   "metadata": {},
   "source": [
    "<a id='approach2'></a>\n",
    "## Approach 2: Using Anaconda (or its minimal variants)\n",
    "\n",
    "This approach is based on utilizing Conda to manage virtual Python environments. [\"Anaconda\"](https://anaconda.com) is a complete environment & package management tool that makes it super easy for data science lovers to get most of the needed libraries installed. Conda also manages package dependencies way better than `pip` when it comes to handling large bunch of them in a virtual environment. It is is actually very straight-forward to setup the whole tools via provided installers on Anaconda website.\n",
    "\n",
    "Installing Anaconda is preferred by many to get Python installed along side with popular libraries. However, the main installer contains numerous libraries that you may not need at the beginning of your journey. [Miniconda](https://docs.conda.io/en/latest/miniconda.html) as well as [Miniforge](https://github.com/conda-forge/miniforge), are two very good alternative minimal installers for Conda that include only conda package manager, Python, the packages they depend on, and a small number of other useful libraries. In spite of all these advantages, Conda's official release channel for packages is infamous for being behind in terms of updates. Conda-forge on the other hand, is a community-led release channel that provides up-to-date packages in Anaconda ecosystem.\n",
    "\n",
    "We prefer Miniforge for the following reasons:\n",
    "- It is minimal with no un-needed libraries installed (just like Miniconda)\n",
    "- It comes with Conda-forge as the main channel for the packages (up-to-date package releases guaranteed)\n",
    "- On the plus side, it is also supported on more CPU & hardware configs\n",
    "\n",
    "It is worth mentioning that `pip` is available in all variations of Conda ecosystem and if for some reason you can't find your required library in conda channels, you always have `pip` at your fingertips."
   ]
  },
  {
   "cell_type": "markdown",
   "metadata": {},
   "source": [
    "### Installing Miniforge & Managing Environments:\n",
    "Miniforge is available to download from GitHub repository located [here](https://github.com/conda-forge/miniforge). Depending on your OS, choose the appropriate installer and go ahead with finishing the wizard. It is advisable to run your installer with admin privileges if you want to make Conda available for all users on the system. If you're on a Windows machine, you'd also better do the installation on a root path (e.g., C:\\miniforge), since some packages might run into problems in case of spaces on their path.\n",
    "\n",
    "After installing Miniforge, you're provided with a dedicated **Miniforge Command Prompt** that activates a default environment called `base` each time you run it. Run the miniforge command prompt and use the following commands to create and manage new environments.\n",
    "\n",
    "### Creating an Independent Environment (with your preferred Python version)\n",
    "```shell\n",
    "conda create -n my_desired_env_name python=3.10\n",
    "```\n",
    "\n",
    "### Activate Your Environment\n",
    "```shell\n",
    "conda activate my_desired_env_name\n",
    "```\n",
    "\n",
    "### Update All Packages in an Environment\n",
    "```shell\n",
    "conda update --all\n",
    "```\n",
    "\n",
    "### Installing a Specific Package\n",
    "```shell\n",
    "conda install scikit-learn\n",
    "```\n",
    "\n",
    "### Deactivate an Environment\n",
    "```shell\n",
    "conda deactivate\n",
    "```"
   ]
  },
  {
   "cell_type": "markdown",
   "metadata": {
    "pycharm": {
     "name": "#%% md\n"
    }
   },
   "source": [
    "## Approach 3: VSCode + Docker\n",
    "\n",
    "This is another clean way to get a customized Python environment up and running. It should be noted that this approach is more suitable for curious minds and probably advanced users, since it involves some docker knowledge. Anyhow, head over to the fantastic guide by [@RamiKrispin](https://github.com/RamiKrispin) which explains all the steps in detail.\n",
    "\n",
    "[\"Setting Python Development Environment with VScode and Docker\"](https://github.com/RamiKrispin/vscode-python)"
   ]
  }
 ],
 "metadata": {
  "language_info": {
   "name": "python"
  },
  "orig_nbformat": 4
 },
 "nbformat": 4,
 "nbformat_minor": 2
}
