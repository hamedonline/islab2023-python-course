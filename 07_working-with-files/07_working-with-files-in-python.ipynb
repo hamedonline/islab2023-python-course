{
 "cells": [
  {
   "cell_type": "markdown",
   "metadata": {
    "id": "5rM6WGXTNJRV"
   },
   "source": [
    "# Working With Files"
   ]
  },
  {
   "cell_type": "markdown",
   "metadata": {
    "id": "jfnjlICgNWBd"
   },
   "source": [
    "## File Handling Modes"
   ]
  },
  {
   "cell_type": "code",
   "execution_count": 1,
   "metadata": {
    "collapsed": false,
    "pycharm": {
     "name": "#%%\n"
    }
   },
   "outputs": [],
   "source": [
    "# write your desired path according to your system and your files directory structure\n",
    "\n",
    "# MY_PATH = \"./content/files\"  # Colab version addressing to open file\n",
    "MY_PATH = \"./files\"  # system version addressing to open file (if this notebook and the files folder are in at the same path)\n",
    "\n",
    "# SAVE_PATH = \"./content/saved_files\"  # Colab version addressing to open file\n",
    "SAVE_PATH = \"./saved_files\"  # system version addressing to open file (if this notebook and the files folder are in at the same path)"
   ]
  },
  {
   "cell_type": "markdown",
   "metadata": {
    "collapsed": false
   },
   "source": [
    "### Reading from File"
   ]
  },
  {
   "cell_type": "code",
   "execution_count": null,
   "metadata": {
    "colab": {
     "base_uri": "https://localhost:8080/"
    },
    "id": "7o7KGFKXb9ZX",
    "outputId": "6072d243-ab43-4352-b3ec-82fd743a8da2",
    "pycharm": {
     "is_executing": true
    }
   },
   "outputs": [],
   "source": [
    "# read mode ('r')\n",
    "read_file = open(f\"{MY_PATH}/session7.txt\", \"r\")\n",
    "\n",
    "components = read_file.read()\n",
    "print(components)\n",
    "read_file.close()"
   ]
  },
  {
   "cell_type": "code",
   "execution_count": null,
   "metadata": {
    "collapsed": false,
    "pycharm": {
     "is_executing": true,
     "name": "#%%\n"
    }
   },
   "outputs": [],
   "source": [
    "# read mode ('r')\n",
    "read_file = open(f\"{MY_PATH}/session7.txt\", \"r\")\n",
    "\n",
    "components = read_file.read(10)\n",
    "print(components)\n",
    "read_file.close()"
   ]
  },
  {
   "cell_type": "code",
   "execution_count": null,
   "metadata": {
    "colab": {
     "base_uri": "https://localhost:8080/"
    },
    "id": "OgGpsmkKxyE9",
    "outputId": "50bb06f7-d027-4fb8-c88b-ccdfcc9fd11e",
    "pycharm": {
     "is_executing": true
    }
   },
   "outputs": [],
   "source": [
    "# using readline() function\n",
    "read_file = open(f\"{MY_PATH}/session7.txt\", \"r\")\n",
    "\n",
    "components = read_file.readline()\n",
    "print(components)\n",
    "read_file.close()"
   ]
  },
  {
   "cell_type": "code",
   "execution_count": null,
   "metadata": {
    "collapsed": false,
    "pycharm": {
     "is_executing": true,
     "name": "#%%\n"
    }
   },
   "outputs": [],
   "source": [
    "# using readline() function\n",
    "read_file = open(f\"{MY_PATH}/session7.txt\", \"r\")\n",
    "\n",
    "components = read_file.readline(10)\n",
    "print(components)\n",
    "read_file.close()"
   ]
  },
  {
   "cell_type": "code",
   "execution_count": null,
   "metadata": {
    "colab": {
     "base_uri": "https://localhost:8080/"
    },
    "id": "WYlBqZ4ix4e_",
    "outputId": "a67508d1-cf2d-41e5-a093-12664e252275",
    "pycharm": {
     "is_executing": true
    }
   },
   "outputs": [],
   "source": [
    "# using readlines() function\n",
    "read_file = open(f\"{MY_PATH}/session7.txt\", \"r\")\n",
    "\n",
    "components = read_file.readlines()\n",
    "print(components)\n",
    "read_file.close()"
   ]
  },
  {
   "cell_type": "code",
   "execution_count": null,
   "metadata": {
    "collapsed": false,
    "pycharm": {
     "is_executing": true,
     "name": "#%%\n"
    }
   },
   "outputs": [],
   "source": [
    "# using readlines() function\n",
    "read_file = open(f\"{MY_PATH}/session7.txt\", \"r\")\n",
    "\n",
    "components = read_file.readlines()\n",
    "print(components[1])\n",
    "read_file.close()"
   ]
  },
  {
   "cell_type": "markdown",
   "metadata": {
    "collapsed": false
   },
   "source": [
    "### Writing to File"
   ]
  },
  {
   "cell_type": "code",
   "execution_count": null,
   "metadata": {
    "collapsed": false,
    "pycharm": {
     "is_executing": true,
     "name": "#%%\n"
    }
   },
   "outputs": [],
   "source": [
    "# write mode ('w')\n",
    "write_file = open(f\"{MY_PATH}/session7_1.txt\", \"w\")\n",
    "\n",
    "content = 36\n",
    "write_file.write(content)  # content must be string to be written in the file, otherwise it leads to exception\n",
    "print(write_file)\n",
    "write_file.close()"
   ]
  },
  {
   "cell_type": "code",
   "execution_count": null,
   "metadata": {
    "collapsed": false,
    "pycharm": {
     "is_executing": true,
     "name": "#%%\n"
    }
   },
   "outputs": [],
   "source": [
    "# write mode ('w')\n",
    "write_file = open(f\"{MY_PATH}/session7_1.txt\", \"w\")\n",
    "\n",
    "write_file.write(\"We are python enthusiast.\\n\")\n",
    "print(write_file)\n",
    "write_file.close()"
   ]
  },
  {
   "cell_type": "code",
   "execution_count": null,
   "metadata": {
    "collapsed": false,
    "pycharm": {
     "is_executing": true,
     "name": "#%%\n"
    }
   },
   "outputs": [],
   "source": [
    "# write mode ('w')\n",
    "write_file = open(f\"{MY_PATH}/session7_1.txt\", \"w\")\n",
    "\n",
    "content = \"We are trying something different.\\nAll the existing data is missed now by using 'w' mode!\"\n",
    "write_file.write(content)\n",
    "print(write_file)\n",
    "write_file.close()"
   ]
  },
  {
   "cell_type": "markdown",
   "metadata": {
    "collapsed": false
   },
   "source": [
    "### Appending to File"
   ]
  },
  {
   "cell_type": "code",
   "execution_count": null,
   "metadata": {
    "colab": {
     "base_uri": "https://localhost:8080/"
    },
    "id": "uCPRKeq2hVhc",
    "outputId": "5a3130cd-f6b4-4b80-f4aa-3b6dccb8cbaf",
    "pycharm": {
     "is_executing": true
    }
   },
   "outputs": [],
   "source": [
    "# append mode ('a')\n",
    "append_file = open(f\"{MY_PATH}/session7_1.txt\", \"a\")\n",
    "\n",
    "append_file.write(\"hello world!\\nthis is python class\")\n",
    "\n",
    "read_file = open(f\"{MY_PATH}/session7_1.txt\", \"r\")\n",
    "\n",
    "components = read_file.read()\n",
    "print(components)\n",
    "read_file.close()"
   ]
  },
  {
   "cell_type": "markdown",
   "metadata": {
    "collapsed": false
   },
   "source": [
    "#### Mode 'r' vs. 'r+'"
   ]
  },
  {
   "cell_type": "code",
   "execution_count": null,
   "metadata": {
    "collapsed": false,
    "pycharm": {
     "is_executing": true,
     "name": "#%%\n"
    }
   },
   "outputs": [],
   "source": [
    "# read mode ('r')\n",
    "read_file = open(f\"{MY_PATH}/session7_1.txt\", \"r\")\n",
    "\n",
    "print(read_file)\n",
    "read_file.write(\"this is session 7.\\n\")\n",
    "read_file.seek(0)  # comment this line to see the output difference\n",
    "print(read_file.read())\n",
    "read_file.close()"
   ]
  },
  {
   "cell_type": "code",
   "execution_count": null,
   "metadata": {
    "colab": {
     "base_uri": "https://localhost:8080/"
    },
    "id": "9JQqIA4GithP",
    "outputId": "cf1c678c-e58e-480c-d92f-bb0749289d49",
    "pycharm": {
     "is_executing": true
    }
   },
   "outputs": [],
   "source": [
    "# read and write mode ('r+')\n",
    "read_write_file = open(f\"{MY_PATH}/session7_1.txt\", \"r+\")\n",
    "\n",
    "print(read_write_file)\n",
    "read_write_file.write(\"this is session 7.\\n\")\n",
    "read_write_file.seek(0)  # comment this line to see the output difference\n",
    "print(read_write_file.read())\n",
    "read_write_file.close()"
   ]
  },
  {
   "cell_type": "markdown",
   "metadata": {
    "collapsed": false
   },
   "source": [
    "#### Mode 'w' vs. 'w+'"
   ]
  },
  {
   "cell_type": "code",
   "execution_count": null,
   "metadata": {
    "collapsed": false,
    "pycharm": {
     "is_executing": true,
     "name": "#%%\n"
    }
   },
   "outputs": [],
   "source": [
    "# write mode ('w')\n",
    "write_file = open(f\"{MY_PATH}/session7_1.txt\", \"w\")\n",
    "\n",
    "write_file.write(\"all the lines are deleted.\\n\")\n",
    "write_file.seek(0)\n",
    "print(write_file.read())\n",
    "write_file.close()"
   ]
  },
  {
   "cell_type": "code",
   "execution_count": null,
   "metadata": {
    "colab": {
     "base_uri": "https://localhost:8080/"
    },
    "id": "hFBM7tSsncy7",
    "outputId": "beff1195-1c0d-4e39-aec6-6bee9b7672f1",
    "pycharm": {
     "is_executing": true
    }
   },
   "outputs": [],
   "source": [
    "# read and write mode ('w+')\n",
    "read_write_file = open(f\"{MY_PATH}/session7_1.txt\", \"w+\")\n",
    "\n",
    "read_write_file.write(\"all the lines are deleted.\\n\")\n",
    "read_write_file.seek(0)\n",
    "print(read_write_file.read())\n",
    "read_write_file.close()"
   ]
  },
  {
   "cell_type": "markdown",
   "metadata": {
    "collapsed": false
   },
   "source": [
    "#### Mode 'a' vs. 'a+'"
   ]
  },
  {
   "cell_type": "code",
   "execution_count": null,
   "metadata": {
    "collapsed": false,
    "pycharm": {
     "is_executing": true,
     "name": "#%%\n"
    }
   },
   "outputs": [],
   "source": [
    "# read mode ('a')\n",
    "write_file = open(f\"{MY_PATH}/session7_1.txt\", \"a\")\n",
    "\n",
    "write_file.write(\"this is session 7.\\n\")\n",
    "write_file.seek(0)\n",
    "print(write_file.read())\n",
    "write_file.close()"
   ]
  },
  {
   "cell_type": "code",
   "execution_count": null,
   "metadata": {
    "collapsed": false,
    "pycharm": {
     "is_executing": true,
     "name": "#%%\n"
    }
   },
   "outputs": [],
   "source": [
    "# read mode ('a+')\n",
    "read_write_file = open(f\"{MY_PATH}/session7_1.txt\", \"a+\")\n",
    "\n",
    "read_write_file.write(\"this is session 7.\\n\")\n",
    "read_write_file.seek(0)\n",
    "print(read_write_file.read())\n",
    "read_write_file.close()"
   ]
  },
  {
   "cell_type": "markdown",
   "metadata": {},
   "source": [
    "#### Appending a Line using `print()` Function"
   ]
  },
  {
   "cell_type": "code",
   "execution_count": null,
   "metadata": {},
   "outputs": [],
   "source": [
    "existing_file = open(f\"{MY_PATH}/session7_1.txt\", \"a\")\n",
    "print(\"Appending a line using print()\", file=existing_file)\n",
    "existing_file.close()"
   ]
  },
  {
   "cell_type": "markdown",
   "metadata": {
    "collapsed": false
   },
   "source": [
    "### `seek()` Function"
   ]
  },
  {
   "cell_type": "code",
   "execution_count": null,
   "metadata": {
    "collapsed": false,
    "pycharm": {
     "is_executing": true,
     "name": "#%%\n"
    }
   },
   "outputs": [],
   "source": [
    "# seek() function\n",
    "read_file = open(f\"{MY_PATH}/session7_1.txt\", \"r\")\n",
    "read_file.seek(4)\n",
    "print(\"The current cursor position is in position \", read_file.tell(), '\\n')\n",
    "print(read_file.read())\n",
    "read_file.close()"
   ]
  },
  {
   "cell_type": "code",
   "execution_count": null,
   "metadata": {
    "collapsed": false,
    "pycharm": {
     "is_executing": true,
     "name": "#%%\n"
    }
   },
   "outputs": [],
   "source": [
    "# seek() function\n",
    "read_file = open(f\"{MY_PATH}/session7_1.txt\", \"rb\")\n",
    "read_file.seek(0,1)\n",
    "print(\"The current cursor position is in position \", read_file.tell(), '\\n')\n",
    "print(read_file.read())\n",
    "read_file.close()"
   ]
  },
  {
   "cell_type": "code",
   "execution_count": null,
   "metadata": {
    "collapsed": false,
    "pycharm": {
     "is_executing": true,
     "name": "#%%\n"
    }
   },
   "outputs": [],
   "source": [
    "# seek() function\n",
    "read_file = open(f\"{MY_PATH}/session7_1.txt\", \"rb\")\n",
    "read_file.seek(-20,2)\n",
    "print(\"The current cursor position is in position \", read_file.tell(), '\\n')\n",
    "print(read_file.read())\n",
    "read_file.close()"
   ]
  },
  {
   "cell_type": "markdown",
   "metadata": {
    "collapsed": false
   },
   "source": [
    "### Binary Mode"
   ]
  },
  {
   "cell_type": "code",
   "execution_count": null,
   "metadata": {
    "collapsed": false,
    "pycharm": {
     "is_executing": true,
     "name": "#%%\n"
    }
   },
   "outputs": [],
   "source": [
    "# binary mode\n",
    "binary_file = open(f\"{MY_PATH}/session7_1.txt\", \"rb\")\n",
    "\n",
    "print(binary_file.read())"
   ]
  },
  {
   "cell_type": "markdown",
   "metadata": {},
   "source": [
    "### Closing a File"
   ]
  },
  {
   "cell_type": "code",
   "execution_count": null,
   "metadata": {},
   "outputs": [],
   "source": [
    "# try deleting the 'nonexistent_file.txt' file after running this cell\n",
    "test_file = open(f\"{MY_PATH}/nonexistent_file.txt\", \"w\")\n",
    "test_file.write(\"we open a file to write into it without closing it.\\n\")"
   ]
  },
  {
   "cell_type": "code",
   "execution_count": null,
   "metadata": {},
   "outputs": [],
   "source": [
    "# now try deleting the 'nonexistent_file.txt' file after running this cell\n",
    "test_file = open(f\"{MY_PATH}/nonexistent_file.txt\", \"w\")\n",
    "test_file.write(\"we open a file to write into it, then close it.\\n\")\n",
    "test_file.close()"
   ]
  },
  {
   "cell_type": "markdown",
   "metadata": {
    "collapsed": false
   },
   "source": [
    "## Reading and Saving Image Files"
   ]
  },
  {
   "cell_type": "markdown",
   "metadata": {
    "collapsed": false
   },
   "source": [
    "#### PIL Library"
   ]
  },
  {
   "cell_type": "code",
   "execution_count": 22,
   "metadata": {
    "collapsed": false,
    "pycharm": {
     "name": "#%%\n"
    }
   },
   "outputs": [],
   "source": [
    "# importing Image and ImageOps module from PIL package\n",
    "from PIL import Image, ImageOps"
   ]
  },
  {
   "cell_type": "code",
   "execution_count": 23,
   "metadata": {
    "collapsed": false,
    "pycharm": {
     "name": "#%%\n"
    }
   },
   "outputs": [],
   "source": [
    "# reading an image\n",
    "img1 = Image.open(f\"{MY_PATH}/sample_image.png\")\n",
    "img1.show()"
   ]
  },
  {
   "cell_type": "code",
   "execution_count": null,
   "metadata": {
    "collapsed": false,
    "pycharm": {
     "is_executing": true,
     "name": "#%%\n"
    }
   },
   "outputs": [],
   "source": [
    "type(img1)"
   ]
  },
  {
   "cell_type": "code",
   "execution_count": null,
   "metadata": {
    "collapsed": false,
    "pycharm": {
     "name": "#%%\n"
    }
   },
   "outputs": [],
   "source": [
    "import matplotlib.pyplot as plt\n",
    "\n",
    "# display image\n",
    "plt.imshow(img1)"
   ]
  },
  {
   "cell_type": "code",
   "execution_count": null,
   "metadata": {
    "collapsed": false,
    "pycharm": {
     "is_executing": true,
     "name": "#%%\n"
    }
   },
   "outputs": [],
   "source": [
    "# save an image\n",
    "img1.save(f\"{SAVE_PATH}/saved_PIL_sample_image.png\")"
   ]
  },
  {
   "cell_type": "code",
   "execution_count": 27,
   "metadata": {
    "collapsed": false,
    "pycharm": {
     "name": "#%%\n"
    }
   },
   "outputs": [],
   "source": [
    "import numpy as np\n",
    "img1_arr = np.array(img1, dtype='int32')"
   ]
  },
  {
   "cell_type": "code",
   "execution_count": null,
   "metadata": {
    "collapsed": false,
    "pycharm": {
     "is_executing": true,
     "name": "#%%\n"
    }
   },
   "outputs": [],
   "source": [
    "type(img1_arr)"
   ]
  },
  {
   "cell_type": "code",
   "execution_count": null,
   "metadata": {
    "collapsed": false,
    "pycharm": {
     "is_executing": true,
     "name": "#%%\n"
    }
   },
   "outputs": [],
   "source": [
    "# PIL image has rgba(red, green, blue, alpha) format => 'alpha' is opacity\n",
    "img1_arr.shape"
   ]
  },
  {
   "cell_type": "code",
   "execution_count": 15,
   "metadata": {
    "collapsed": false,
    "pycharm": {
     "name": "#%%\n"
    }
   },
   "outputs": [],
   "source": [
    "# reading image in grayscale format\n",
    "img1 = Image.open(f\"{MY_PATH}/sample_image.png\")\n",
    "\n",
    "# applying grayscale method\n",
    "gray_img1 = ImageOps.grayscale(img1)\n",
    "\n",
    "gray_img1.show()"
   ]
  },
  {
   "cell_type": "code",
   "execution_count": null,
   "metadata": {
    "collapsed": false,
    "pycharm": {
     "is_executing": true,
     "name": "#%%\n"
    }
   },
   "outputs": [],
   "source": [
    "gray_img1_arr = np.array(gray_img1, dtype='int32')"
   ]
  },
  {
   "cell_type": "code",
   "execution_count": null,
   "metadata": {
    "collapsed": false,
    "pycharm": {
     "name": "#%%\n"
    }
   },
   "outputs": [],
   "source": [
    "type(gray_img1_arr)"
   ]
  },
  {
   "cell_type": "code",
   "execution_count": null,
   "metadata": {
    "collapsed": false,
    "pycharm": {
     "name": "#%%\n"
    }
   },
   "outputs": [],
   "source": [
    "gray_img1_arr.shape"
   ]
  },
  {
   "cell_type": "markdown",
   "metadata": {
    "collapsed": false
   },
   "source": [
    "#### OpenCV"
   ]
  },
  {
   "cell_type": "code",
   "execution_count": 3,
   "metadata": {
    "collapsed": false,
    "pycharm": {
     "name": "#%%\n"
    }
   },
   "outputs": [],
   "source": [
    "# importing OpenCV package\n",
    "import cv2"
   ]
  },
  {
   "cell_type": "code",
   "execution_count": null,
   "metadata": {
    "collapsed": false,
    "pycharm": {
     "is_executing": true,
     "name": "#%%\n"
    }
   },
   "outputs": [],
   "source": [
    "# reading an image\n",
    "img2 = cv2.imread(f\"{MY_PATH}/sample_image.png\")\n",
    "cv2.imshow(\"image\", img2)\n",
    "cv2.waitKey(0)"
   ]
  },
  {
   "cell_type": "code",
   "execution_count": null,
   "metadata": {
    "collapsed": false,
    "pycharm": {
     "is_executing": true,
     "name": "#%%\n"
    }
   },
   "outputs": [],
   "source": [
    "type(img2)"
   ]
  },
  {
   "cell_type": "code",
   "execution_count": null,
   "metadata": {
    "collapsed": false,
    "pycharm": {
     "name": "#%%\n"
    }
   },
   "outputs": [],
   "source": [
    "img2.shape"
   ]
  },
  {
   "cell_type": "code",
   "execution_count": null,
   "metadata": {
    "collapsed": false,
    "pycharm": {
     "is_executing": true,
     "name": "#%%\n"
    }
   },
   "outputs": [],
   "source": [
    "import matplotlib.pyplot as plt\n",
    "\n",
    "# display image\n",
    "plt.imshow(img2)"
   ]
  },
  {
   "cell_type": "code",
   "execution_count": null,
   "metadata": {
    "collapsed": false,
    "pycharm": {
     "is_executing": true,
     "name": "#%%\n"
    }
   },
   "outputs": [],
   "source": [
    "# converting BGR color (OpenCV format) to RGB color (matplotlib format)\n",
    "RGB_img2 = cv2.cvtColor(img2, cv2.COLOR_BGR2RGB)\n",
    "\n",
    "plt.imshow(RGB_img2)"
   ]
  },
  {
   "cell_type": "code",
   "execution_count": null,
   "metadata": {
    "collapsed": false,
    "pycharm": {
     "is_executing": true,
     "name": "#%%\n"
    }
   },
   "outputs": [],
   "source": [
    "cv2.imwrite(f\"{SAVE_PATH}/saved_OpenCV_sample_image.png\", img2)"
   ]
  },
  {
   "cell_type": "code",
   "execution_count": null,
   "metadata": {
    "collapsed": false,
    "pycharm": {
     "is_executing": true,
     "name": "#%%\n"
    }
   },
   "outputs": [],
   "source": [
    "# read image as grayscale image\n",
    "gray_img2 = cv2.imread(f\"{MY_PATH}/sample_image.png\", cv2.IMREAD_GRAYSCALE)\n",
    "cv2.imshow(\"gray image\", gray_img2)\n",
    "cv2.waitKey(0)"
   ]
  },
  {
   "cell_type": "code",
   "execution_count": null,
   "metadata": {
    "collapsed": false,
    "pycharm": {
     "is_executing": true,
     "name": "#%%\n"
    }
   },
   "outputs": [],
   "source": [
    "gray_img2.shape"
   ]
  },
  {
   "cell_type": "markdown",
   "metadata": {
    "id": "6rSB0qpsNmVc"
   },
   "source": [
    "## Handling File Exceptions"
   ]
  },
  {
   "cell_type": "code",
   "execution_count": null,
   "metadata": {
    "collapsed": false,
    "pycharm": {
     "is_executing": true,
     "name": "#%%\n"
    }
   },
   "outputs": [],
   "source": [
    "# write an unsafe code to throw exception\n",
    "nonexictent_file = open(f\"{MY_PATH}/nonexistent_file.txt\", \"r\")"
   ]
  },
  {
   "cell_type": "code",
   "execution_count": null,
   "metadata": {
    "colab": {
     "base_uri": "https://localhost:8080/"
    },
    "id": "yJ5X0HlC985q",
    "outputId": "91df23cf-8fe8-4b0d-cdc9-5b93854c1e83",
    "pycharm": {
     "is_executing": true
    }
   },
   "outputs": [],
   "source": [
    "try:\n",
    "    nonexictent_file = open(f\"{MY_PATH}/nonexistent_file.txt\", \"r\")\n",
    "    content = nonexictent_file.read()\n",
    "except FileNotFoundError:\n",
    "    print(\"File not found!\")"
   ]
  },
  {
   "cell_type": "code",
   "execution_count": 86,
   "metadata": {
    "collapsed": false,
    "pycharm": {
     "name": "#%%\n"
    }
   },
   "outputs": [],
   "source": [
    "# exclusive creation mode ('x')\n",
    "try:\n",
    "    nonexictent_file = open(f\"{MY_PATH}/nonexistent_file.txt\", \"x\")\n",
    "    nonexictent_file.write(\"we made a new file.\\n\")\n",
    "    nonexictent_file.close()\n",
    "except FileExistsError:\n",
    "    print(\"File already exists!\")"
   ]
  },
  {
   "cell_type": "code",
   "execution_count": null,
   "metadata": {
    "colab": {
     "base_uri": "https://localhost:8080/"
    },
    "id": "Dd4rEVgVoBpX",
    "outputId": "a9a30ffa-6ab8-41e5-d2a7-ccf752c49c3e",
    "pycharm": {
     "is_executing": true
    }
   },
   "outputs": [],
   "source": [
    "# exclusive creation mode ('x')\n",
    "try:\n",
    "    exclusive_file = open(f\"{MY_PATH}/session7_1.txt\", \"x\")\n",
    "    exclusive_file.write(\"we made a new file.\\n\")\n",
    "    exclusive_file.close()\n",
    "except FileExistsError:\n",
    "    print(\"File already exists!\")"
   ]
  },
  {
   "cell_type": "markdown",
   "metadata": {
    "id": "yhw48SaNOYYR"
   },
   "source": [
    "## The Usage of `with` Statement"
   ]
  },
  {
   "cell_type": "code",
   "execution_count": null,
   "metadata": {
    "colab": {
     "base_uri": "https://localhost:8080/"
    },
    "id": "soLpHt5t9HWC",
    "outputId": "b3c459a6-d8a4-4466-96ea-e6e6e8ff6750",
    "pycharm": {
     "is_executing": true
    }
   },
   "outputs": [],
   "source": [
    "with open(f\"{MY_PATH}/session7_1.txt\", \"r\") as file:\n",
    "    component = file.read()\n",
    "    print(component)"
   ]
  },
  {
   "cell_type": "code",
   "execution_count": null,
   "metadata": {
    "collapsed": false,
    "pycharm": {
     "is_executing": true,
     "name": "#%%\n"
    }
   },
   "outputs": [],
   "source": [
    "# try deleting the 'nonexistent_file.txt' file after running this cell\n",
    "try:\n",
    "    nonexictent_file = open(f\"{MY_PATH}/nonexistent_file.txt\", \"x\")\n",
    "    nonexictent_file.write(\"we made a new file again.\\nNow we want to read from this file.\")\n",
    "    nonexictent_file.close()\n",
    "    with open(f\"{MY_PATH}/nonexistent_file.txt\", \"r\") as file:\n",
    "        component = file.read()\n",
    "        print(component)\n",
    "except FileExistsError:\n",
    "    print(\"File already exists!\")"
   ]
  },
  {
   "cell_type": "markdown",
   "metadata": {
    "id": "hk_zwWfZOi6m"
   },
   "source": [
    "## Reading `.csv` Files"
   ]
  },
  {
   "cell_type": "code",
   "execution_count": null,
   "metadata": {
    "colab": {
     "base_uri": "https://localhost:8080/"
    },
    "id": "ty1sCS8MEk48",
    "outputId": "43690cd0-31ef-4dae-af6e-58bd10eb7acd",
    "pycharm": {
     "is_executing": true
    }
   },
   "outputs": [],
   "source": [
    "read_file = open(f\"{MY_PATH}/session7.csv\", \"r\")\n",
    "components = read_file.read()\n",
    "print(components)\n",
    "read_file.close()"
   ]
  },
  {
   "cell_type": "code",
   "execution_count": null,
   "metadata": {
    "id": "1kFyAanpEws_",
    "pycharm": {
     "is_executing": true
    }
   },
   "outputs": [],
   "source": [
    "# the built-in open() function can't work with Excel files\n",
    "read_file = open(f\"{MY_PATH}/session7.xlsx\", \"r\")\n",
    "components = read_file.read()\n",
    "print(components)\n",
    "read_file.close()"
   ]
  },
  {
   "cell_type": "markdown",
   "metadata": {
    "id": "IvQM-6b6O3u4"
   },
   "source": [
    "## Using Pandas Library to Read and Manage Tabular Files"
   ]
  },
  {
   "cell_type": "code",
   "execution_count": 2,
   "metadata": {
    "id": "sAJhQQW5BOly"
   },
   "outputs": [],
   "source": [
    "# import Pandas\n",
    "import pandas as pd"
   ]
  },
  {
   "cell_type": "markdown",
   "metadata": {
    "collapsed": false
   },
   "source": [
    "### Using `pandas.read_csv()` to Read \".csv\" and \".txt\" Files"
   ]
  },
  {
   "cell_type": "code",
   "execution_count": null,
   "metadata": {
    "colab": {
     "base_uri": "https://localhost:8080/",
     "height": 89
    },
    "id": "AIuTuj3hFTzM",
    "outputId": "eecf6e26-8b45-4f74-f51e-229a015c1e9a",
    "pycharm": {
     "is_executing": true
    }
   },
   "outputs": [],
   "source": [
    "# reading a text file into a Pandas DataFrame\n",
    "read_file = pd.read_csv(f\"{MY_PATH}/session7_2.txt\")\n",
    "read_file"
   ]
  },
  {
   "cell_type": "code",
   "execution_count": null,
   "metadata": {
    "colab": {
     "base_uri": "https://localhost:8080/",
     "height": 89
    },
    "id": "KpGpqJ2vBn8Y",
    "outputId": "7e3591ab-2f92-48a5-925b-069d446d06ed",
    "pycharm": {
     "is_executing": true
    }
   },
   "outputs": [],
   "source": [
    "# adding title to the column of DataFrame\n",
    "read_file.columns = [\"cl1\"]\n",
    "read_file"
   ]
  },
  {
   "cell_type": "code",
   "execution_count": null,
   "metadata": {
    "colab": {
     "base_uri": "https://localhost:8080/",
     "height": 370
    },
    "id": "0_H8EGSVCJ1H",
    "outputId": "cdc76323-ddf1-48e3-c69c-f28cdebd6af0",
    "pycharm": {
     "is_executing": true
    }
   },
   "outputs": [],
   "source": [
    "# adding index column for DataFrame rows\n",
    "read_file.index = [\"r1\", \"r2\"]\n",
    "read_file"
   ]
  },
  {
   "cell_type": "code",
   "execution_count": null,
   "metadata": {
    "colab": {
     "base_uri": "https://localhost:8080/",
     "height": 200
    },
    "id": "_C99Ah2KCX23",
    "outputId": "39cb0281-319a-49f0-e9fb-8a7472ba7a86",
    "pycharm": {
     "is_executing": true
    }
   },
   "outputs": [],
   "source": [
    "# removing index\n",
    "new_read_file = read_file.reset_index(drop=True)\n",
    "new_read_file"
   ]
  },
  {
   "cell_type": "code",
   "execution_count": null,
   "metadata": {
    "collapsed": false,
    "pycharm": {
     "is_executing": true,
     "name": "#%%\n"
    }
   },
   "outputs": [],
   "source": [
    "read_file = pd.read_csv(f\"{MY_PATH}/session7_3.txt\")\n",
    "# read_file = pd.read_csv(f\"{MY_PATH}/session7_3.txt\", sep=\"\\t\", comment=\"!\")\n",
    "read_file"
   ]
  },
  {
   "cell_type": "code",
   "execution_count": null,
   "metadata": {
    "id": "nnkacLwlFY2T",
    "pycharm": {
     "is_executing": true
    }
   },
   "outputs": [],
   "source": [
    "# using pandas read_csv() method to read another csv file\n",
    "read_file = pd.read_csv(f\"{MY_PATH}/session7.csv\")\n",
    "read_file"
   ]
  },
  {
   "cell_type": "code",
   "execution_count": null,
   "metadata": {
    "collapsed": false,
    "pycharm": {
     "is_executing": true,
     "name": "#%%\n"
    }
   },
   "outputs": [],
   "source": [
    "# adding title to columns\n",
    "read_file.columns = [\"cl1\", \"cl2\", \"cl3\", \"result\"]\n",
    "read_file"
   ]
  },
  {
   "cell_type": "code",
   "execution_count": null,
   "metadata": {
    "collapsed": false,
    "pycharm": {
     "is_executing": true,
     "name": "#%%\n"
    }
   },
   "outputs": [],
   "source": [
    "# adding index for rows\n",
    "read_file.index = [\"r1\", \"r2\", \"r3\",\"r4\", \"r5\", \"r6\",\"r7\", \"r8\", \"r9\",\"r10\", \"r11\"]\n",
    "read_file"
   ]
  },
  {
   "cell_type": "code",
   "execution_count": null,
   "metadata": {
    "collapsed": false,
    "pycharm": {
     "is_executing": true,
     "name": "#%%\n"
    }
   },
   "outputs": [],
   "source": [
    "read_file.head()"
   ]
  },
  {
   "cell_type": "code",
   "execution_count": null,
   "metadata": {
    "collapsed": false,
    "pycharm": {
     "is_executing": true,
     "name": "#%%\n"
    }
   },
   "outputs": [],
   "source": [
    "read_file.tail()"
   ]
  },
  {
   "cell_type": "code",
   "execution_count": null,
   "metadata": {
    "collapsed": false,
    "pycharm": {
     "is_executing": true,
     "name": "#%%\n"
    }
   },
   "outputs": [],
   "source": [
    "# removing index from rows\n",
    "new_read_file = read_file.reset_index(drop=True)\n",
    "new_read_file"
   ]
  },
  {
   "cell_type": "markdown",
   "metadata": {
    "collapsed": false
   },
   "source": [
    "### Using `pandas.read_excel()` to Read \".xlsx\" Files"
   ]
  },
  {
   "cell_type": "code",
   "execution_count": null,
   "metadata": {
    "id": "qb7_ygO0Hj75",
    "pycharm": {
     "is_executing": true
    }
   },
   "outputs": [],
   "source": [
    "# using pandas read_excel() method to read files in xlsx format\n",
    "read_file = pd.read_excel(f\"{MY_PATH}/session7.xlsx\")\n",
    "print(read_file)"
   ]
  },
  {
   "cell_type": "code",
   "execution_count": null,
   "metadata": {
    "id": "FNvCpjgCH0XV",
    "pycharm": {
     "is_executing": true,
     "name": "#%%\n"
    }
   },
   "outputs": [],
   "source": [
    "# reading an Excel file into a Pandas DataFrame\n",
    "read_file = pd.DataFrame(read_file)\n",
    "read_file"
   ]
  },
  {
   "cell_type": "markdown",
   "metadata": {},
   "source": [
    "### Saving a Pandas DataFrame as a CSV file"
   ]
  },
  {
   "cell_type": "code",
   "execution_count": null,
   "metadata": {},
   "outputs": [],
   "source": [
    "# multiple List arrays containing values for names, ages and score\n",
    "user_name = [\"user1\", \"user2\", \"user3\", \"user4\"]\n",
    "age = [12, 34, 23, 9]\n",
    "score = [90, 45, 81, 98]\n",
    "\n",
    "# dictionary of lists\n",
    "sample_dict = {'user_name': user_name, 'age': age, 'score': score}\n",
    "\n",
    "df = pd.DataFrame(sample_dict)\n",
    "\n",
    "print(df)"
   ]
  },
  {
   "cell_type": "code",
   "execution_count": null,
   "metadata": {},
   "outputs": [],
   "source": [
    "# saving the DataFrame without heading (column titles) and index\n",
    "df.to_csv(f'{SAVE_PATH}/file_test.csv', header=False, index=False)"
   ]
  },
  {
   "cell_type": "code",
   "execution_count": null,
   "metadata": {},
   "outputs": [],
   "source": [
    "# saving the DataFrame\n",
    "df.to_csv(f'{SAVE_PATH}/file_test.csv', sep=';')"
   ]
  },
  {
   "cell_type": "code",
   "execution_count": null,
   "metadata": {},
   "outputs": [],
   "source": [
    "# specify separator for columns\n",
    "read_file = pd.read_csv(f\"{SAVE_PATH}/file_test.csv\", sep=\";\")\n",
    "read_file"
   ]
  },
  {
   "cell_type": "code",
   "execution_count": null,
   "metadata": {},
   "outputs": [],
   "source": [
    "# when not specified, default separator is considered as comma\n",
    "read_file = pd.read_csv(f\"{SAVE_PATH}/file_test.csv\")\n",
    "read_file"
   ]
  },
  {
   "cell_type": "markdown",
   "metadata": {
    "collapsed": false
   },
   "source": [
    "## Saving Objects to Files and Reading Them Back"
   ]
  },
  {
   "cell_type": "code",
   "execution_count": 48,
   "metadata": {
    "collapsed": false,
    "pycharm": {
     "name": "#%%\n"
    }
   },
   "outputs": [],
   "source": [
    "import pickle"
   ]
  },
  {
   "cell_type": "code",
   "execution_count": 50,
   "metadata": {
    "collapsed": false,
    "pycharm": {
     "name": "#%%\n"
    }
   },
   "outputs": [],
   "source": [
    "# create a Dictionary variable\n",
    "my_dict = {\n",
    "    \"name\": \"Mehrdad\",\n",
    "    \"birth_date\": \"11/29/2001\",\n",
    "    \"rating\": 9.5,\n",
    "    \"memberships\": [\"gym\", \"pool\", \"aerobics\"]\n",
    "}\n",
    "\n",
    "with open(f'{SAVE_PATH}/file_dict.pkl', 'wb') as file:\n",
    "    # save a python Dictionary array object as a pickle file\n",
    "    pickle.dump(my_dict, file)"
   ]
  },
  {
   "cell_type": "code",
   "execution_count": null,
   "metadata": {
    "collapsed": false,
    "pycharm": {
     "is_executing": true,
     "name": "#%%\n"
    }
   },
   "outputs": [],
   "source": [
    "with open(f'{SAVE_PATH}/file_dict.pkl', 'rb') as file:\n",
    "    # load a saved pickle file\n",
    "    my_dict_var = pickle.load(file)\n",
    "    print(my_dict_var)"
   ]
  },
  {
   "cell_type": "code",
   "execution_count": 54,
   "metadata": {
    "collapsed": false,
    "pycharm": {
     "name": "#%%\n"
    }
   },
   "outputs": [],
   "source": [
    "# create a List array\n",
    "my_list = ['engineers', 'python learners']\n",
    "\n",
    "with open(f'{SAVE_PATH}/file_list.pkl', 'wb') as file:\n",
    "    # save a python List array object as a pickle file\n",
    "    pickle.dump(my_list, file)"
   ]
  },
  {
   "cell_type": "code",
   "execution_count": null,
   "metadata": {
    "collapsed": false,
    "pycharm": {
     "is_executing": true,
     "name": "#%%\n"
    }
   },
   "outputs": [],
   "source": [
    "with open(f'{SAVE_PATH}/file_list.pkl', 'rb') as file:\n",
    "    # load a saved pickle file\n",
    "    my_list_var = pickle.load(file)\n",
    "    print(my_list_var)"
   ]
  },
  {
   "cell_type": "code",
   "execution_count": null,
   "metadata": {
    "collapsed": false,
    "pycharm": {
     "is_executing": true,
     "name": "#%%\n"
    }
   },
   "outputs": [],
   "source": [
    "# the image as an array (we have already read the image file in previous cells above)\n",
    "img1_arr"
   ]
  },
  {
   "cell_type": "code",
   "execution_count": null,
   "metadata": {
    "collapsed": false,
    "pycharm": {
     "is_executing": true,
     "name": "#%%\n"
    }
   },
   "outputs": [],
   "source": [
    "type(img1_arr)"
   ]
  },
  {
   "cell_type": "code",
   "execution_count": 63,
   "metadata": {
    "collapsed": false,
    "pycharm": {
     "name": "#%%\n"
    }
   },
   "outputs": [],
   "source": [
    "with open(f'{SAVE_PATH}/file_np_array.pkl', 'wb') as file:\n",
    "    # save an image array object as a pickle file\n",
    "    pickle.dump(img1_arr, file)"
   ]
  },
  {
   "cell_type": "code",
   "execution_count": null,
   "metadata": {
    "collapsed": false,
    "pycharm": {
     "is_executing": true,
     "name": "#%%\n"
    }
   },
   "outputs": [],
   "source": [
    "with open(f'{SAVE_PATH}/file_np_array.pkl', 'rb') as file:\n",
    "    # load a saved pickle file\n",
    "    my_np_array_var = pickle.load(file)\n",
    "    print(my_np_array_var)\n",
    "\n",
    "    plt.imshow(my_np_array_var)  # we can plot a numpy array and display the image, since the saved pickle was also an image array\n",
    "    plt.show()"
   ]
  }
 ],
 "metadata": {
  "colab": {
   "provenance": []
  },
  "kernelspec": {
   "display_name": "Python 3",
   "name": "python3"
  },
  "language_info": {
   "codemirror_mode": {
    "name": "ipython",
    "version": 3
   },
   "file_extension": ".py",
   "mimetype": "text/x-python",
   "name": "python",
   "nbconvert_exporter": "python",
   "pygments_lexer": "ipython3",
   "version": "3.9.17"
  }
 },
 "nbformat": 4,
 "nbformat_minor": 0
}
