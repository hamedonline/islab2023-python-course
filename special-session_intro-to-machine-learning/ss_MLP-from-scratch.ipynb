{
 "cells": [
  {
   "attachments": {},
   "cell_type": "markdown",
   "id": "edd56c1e",
   "metadata": {},
   "source": [
    "# Simple MLP Code From Scratch"
   ]
  },
  {
   "cell_type": "code",
   "execution_count": null,
   "id": "de9d4b00",
   "metadata": {},
   "outputs": [],
   "source": [
    "import numpy as np\n",
    "import pandas as pd\n",
    "import matplotlib.pyplot as plt\n",
    "import math"
   ]
  },
  {
   "cell_type": "code",
   "execution_count": null,
   "id": "e9257ea5",
   "metadata": {},
   "outputs": [],
   "source": [
    "def sigmoid(x):\n",
    "    return  1 /( 1 + (math.e)**(-1 * x))"
   ]
  },
  {
   "cell_type": "code",
   "execution_count": null,
   "id": "c387163a",
   "metadata": {},
   "outputs": [],
   "source": [
    "def sigmoid_derivative(x):\n",
    "    a = sigmoid(x)\n",
    "    a = np.reshape(a,(-1,1))\n",
    "    b = 1 - sigmoid(x)\n",
    "    b = np.reshape(b,(-1,1))\n",
    "    b = np.transpose(b)\n",
    "    return np.diag(np.diag(np.matmul(a,b)))"
   ]
  },
  {
   "cell_type": "code",
   "execution_count": null,
   "id": "d257e62e",
   "metadata": {},
   "outputs": [],
   "source": [
    "# initializing parameters\n",
    "split_ratio = 0.7\n",
    "eta = 0.3\n",
    "epochs = 20"
   ]
  },
  {
   "attachments": {},
   "cell_type": "markdown",
   "id": "6877647e",
   "metadata": {},
   "source": [
    "### Data Reading"
   ]
  },
  {
   "cell_type": "code",
   "execution_count": null,
   "id": "e3855411",
   "metadata": {},
   "outputs": [],
   "source": [
    "data = pd.read_excel('dataset.xlsx', header=None)\n",
    "data = np.array(data)"
   ]
  },
  {
   "attachments": {},
   "cell_type": "markdown",
   "id": "eb6df14f",
   "metadata": {},
   "source": [
    "### Data Pre-processing"
   ]
  },
  {
   "cell_type": "code",
   "execution_count": null,
   "id": "c0b61baa",
   "metadata": {},
   "outputs": [],
   "source": [
    "split_line_number = int(np.shape(data)[0] * split_ratio)\n",
    "\n",
    "# find min and max of training data (use only train data to avoid leakage)\n",
    "min = np.min(data[:split_line_number,])\n",
    "max = np.max(data[:split_line_number,])\n",
    "\n",
    "for i in range(np.shape(data)[0]):\n",
    "    for j in range(np.shape(data)[1]):\n",
    "        data[i,j] = (data[i,j] - min) / (max - min)\n",
    "\n",
    "x_train      = data[:split_line_number,:4]\n",
    "x_validation = data[split_line_number:,:4]\n",
    "y_train      = data[:split_line_number,4]\n",
    "y_validation = data[split_line_number:,4]"
   ]
  },
  {
   "attachments": {},
   "cell_type": "markdown",
   "id": "28eab721",
   "metadata": {},
   "source": [
    "### Weight Initialization"
   ]
  },
  {
   "cell_type": "code",
   "execution_count": null,
   "id": "d0c93710",
   "metadata": {},
   "outputs": [],
   "source": [
    "input_dimension = np.shape(x_train)[1]\n",
    "l1_neurons = 5\n",
    "l2_neurons = 1\n",
    "\n",
    "\n",
    "w1 = np.random.uniform(low=-1,high=1,size=(input_dimension,l1_neurons))\n",
    "w2 = np.random.uniform(low=-1,high=1,size=(l1_neurons,l2_neurons))"
   ]
  },
  {
   "attachments": {},
   "cell_type": "markdown",
   "id": "1fecf43a",
   "metadata": {},
   "source": [
    "### Train Function"
   ]
  },
  {
   "cell_type": "code",
   "execution_count": null,
   "id": "af6c2ded",
   "metadata": {},
   "outputs": [],
   "source": [
    "def train(x_train, y_train, w1, w2):\n",
    "    sqr_err_epoch_train = []\n",
    "    output_train = []\n",
    "\n",
    "    for j in range(np.shape(x_train)[0]):\n",
    "        # feed-forward\n",
    "\n",
    "        # layer 1\n",
    "        net1 = np.matmul(x_train[j],w1)\n",
    "        o1 = sigmoid(net1)\n",
    "        o1 = np.reshape(o1,(-1,1))\n",
    "\n",
    "        # layer 2\n",
    "        net2 = np.matmul(np.transpose(o1),w2)\n",
    "        o2 = net2\n",
    "\n",
    "        output_train.append(o2[0])\n",
    "\n",
    "        # error\n",
    "        err = y_train[j] - o2[0]\n",
    "        sqr_err_epoch_train.append(err**2)\n",
    "\n",
    "        # back propagation\n",
    "        f_derivative = sigmoid_derivative(net1)\n",
    "        w2_f_derivative = np.matmul(f_derivative,w2)\n",
    "        w2_f_derivative_x = np.matmul(w2_f_derivative,np.transpose(np.reshape(x_train[j],(-1,1))))\n",
    "        w1 = np.subtract(w1 , np.transpose((eta * err * -1 * 1 * w2_f_derivative_x)))\n",
    "        w2 = np.subtract(w2 , (eta * err * -1 * 1 * o1))\n",
    "\n",
    "    return w1, w2, output_train, sqr_err_epoch_train"
   ]
  },
  {
   "attachments": {},
   "cell_type": "markdown",
   "id": "df7a91b0",
   "metadata": {},
   "source": [
    "### Validation Function"
   ]
  },
  {
   "cell_type": "code",
   "execution_count": null,
   "id": "07f0271a",
   "metadata": {},
   "outputs": [],
   "source": [
    "def validate(x_validation, y_validation, w1, w2):\n",
    "    sqr_err_epoch_validation = []\n",
    "    output_validation = []\n",
    "\n",
    "    for j in range(np.shape(x_validation)[0]):\n",
    "        # feed-forward\n",
    "\n",
    "        # layer 1\n",
    "        net1 = np.matmul(x_validation[j], w1)\n",
    "        o1 = sigmoid(net1)\n",
    "        o1 = np.reshape(o1, (-1, 1))\n",
    "\n",
    "        # layer 2\n",
    "        net2 = np.matmul(np.transpose(o1), w2)\n",
    "        o2 = net2\n",
    "\n",
    "        output_validation.append(o2[0])\n",
    "\n",
    "        # error\n",
    "        err = y_validation[j] - o2[0]\n",
    "        sqr_err_epoch_validation.append(err ** 2)\n",
    "\n",
    "    return output_validation, sqr_err_epoch_validation"
   ]
  },
  {
   "attachments": {},
   "cell_type": "markdown",
   "id": "0f6115ab",
   "metadata": {},
   "source": [
    "## Training and Evaluating the Model"
   ]
  },
  {
   "cell_type": "code",
   "execution_count": null,
   "id": "f8187842",
   "metadata": {},
   "outputs": [],
   "source": [
    "MSE_train = []\n",
    "MSE_validation = []\n",
    "\n",
    "for i in range(epochs):\n",
    "\n",
    "    # training\n",
    "    w1, w2, output_train, sqr_err_epoch_train = train(x_train, y_train, w1, w2)\n",
    "\n",
    "    mse_epoch_train = 0.5 * ((sum(sqr_err_epoch_train))/np.shape(x_train)[0])\n",
    "    MSE_train.append(mse_epoch_train)\n",
    "\n",
    "    # validation\n",
    "    output_validation, sqr_err_epoch_validation = validate(x_validation, y_validation, w1, w2)\n",
    "\n",
    "    mse_epoch_validation = 0.5 * ((sum(sqr_err_epoch_validation))/np.shape(x_validation)[0])\n",
    "    MSE_validation.append(mse_epoch_validation)\n",
    "\n",
    "    print(\n",
    "        f\"Epoch {i}: MSE Loss Train: {mse_epoch_train}, MSE Loss Validation: {mse_epoch_validation}\")\n",
    "\n",
    "\n",
    "# train\n",
    "m_train , b_train = np.polyfit(y_train,output_train,1)\n",
    "\n",
    "# validation\n",
    "m_validation , b_validation = np.polyfit(y_validation, output_validation, 1)\n",
    "\n",
    "# plots\n",
    "fig, axs = plt.subplots(3, 2)\n",
    "axs[0, 0].plot(MSE_train, 'b')\n",
    "axs[0, 0].set_title('MSE Train')\n",
    "axs[0, 1].plot(MSE_validation, 'r')\n",
    "axs[0, 1].set_title('MSE Validation')\n",
    "\n",
    "axs[1, 0].plot(y_train, 'b')\n",
    "axs[1, 0].plot(output_train, 'r')\n",
    "axs[1, 0].set_title('Output Train')\n",
    "axs[1, 1].plot(y_validation, 'b')\n",
    "axs[1, 1].plot(output_validation, 'r')\n",
    "axs[1, 1].set_title('Output Validation')\n",
    "\n",
    "axs[2, 0].plot(y_train, output_train, 'b*')\n",
    "axs[2, 0].plot(y_train, m_train*y_train+b_train, 'r')\n",
    "axs[2, 0].set_title('Regression Train')\n",
    "axs[2, 1].plot(y_validation, output_validation, 'b*')\n",
    "axs[2, 1].plot(y_validation, m_validation*y_validation+b_validation, 'r')\n",
    "axs[2, 1].set_title('Regression Validation')\n",
    "\n",
    "plt.show()"
   ]
  },
  {
   "cell_type": "code",
   "execution_count": null,
   "id": "1ee23af9",
   "metadata": {},
   "outputs": [],
   "source": [
    "# save the results plot on a file in current folder\n",
    "plt.savefig('Results.jpg')"
   ]
  }
 ],
 "metadata": {
  "kernelspec": {
   "display_name": "Python 3 (ipykernel)",
   "language": "python",
   "name": "python3"
  },
  "language_info": {
   "codemirror_mode": {
    "name": "ipython",
    "version": 3
   },
   "file_extension": ".py",
   "mimetype": "text/x-python",
   "name": "python",
   "nbconvert_exporter": "python",
   "pygments_lexer": "ipython3",
   "version": "3.9.17"
  }
 },
 "nbformat": 4,
 "nbformat_minor": 5
}
