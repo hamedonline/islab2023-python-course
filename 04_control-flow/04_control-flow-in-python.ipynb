{
 "cells": [
  {
   "cell_type": "markdown",
   "metadata": {},
   "source": [
    "# Control Flow in Python"
   ]
  },
  {
   "cell_type": "markdown",
   "metadata": {},
   "source": [
    "## Conditional Statements"
   ]
  },
  {
   "cell_type": "markdown",
   "metadata": {},
   "source": [
    "### Conditional Statements: `if`, `elif`, `else`"
   ]
  },
  {
   "cell_type": "code",
   "execution_count": null,
   "metadata": {},
   "outputs": [],
   "source": [
    "fruits = ['Apples', 'Oranges', 'Bananas']\n",
    "print(fruits)"
   ]
  },
  {
   "cell_type": "code",
   "execution_count": null,
   "metadata": {},
   "outputs": [],
   "source": [
    "'apple' in fruits"
   ]
  },
  {
   "cell_type": "code",
   "execution_count": null,
   "metadata": {},
   "outputs": [],
   "source": [
    "if 'apple' in fruits:\n",
    "    print(\"I found apple!\")"
   ]
  },
  {
   "cell_type": "code",
   "execution_count": null,
   "metadata": {},
   "outputs": [],
   "source": [
    "if 'Strawberries' not in fruits:\n",
    "    print(\"We're out of strawberries!\",\n",
    "          \"Could you please buy some on your way back home?\")"
   ]
  },
  {
   "cell_type": "code",
   "execution_count": null,
   "metadata": {},
   "outputs": [],
   "source": [
    "if 'Apples' and 'Oranges' and 'Bananas' in fruits:\n",
    "    print(\"Let's throw a party!\")"
   ]
  },
  {
   "cell_type": "code",
   "execution_count": null,
   "metadata": {},
   "outputs": [],
   "source": [
    "if 'watermelon' in fruits:\n",
    "    print(\"we have watermelon!\")\n",
    "elif 'apple' not in fruits:\n",
    "    print(\"we don't have apple!\")\n",
    "else:\n",
    "    print(\"our fruits:\", fruits)"
   ]
  },
  {
   "cell_type": "code",
   "execution_count": null,
   "metadata": {},
   "outputs": [],
   "source": [
    "# in a block that contains \"if\" and \"elif\"(s), as soon as the first condition gets satisfied, the rest of that block is cancelled out\n",
    "# note that \"elif\" belongs to the first \"if\" above it\n",
    "\n",
    "sample_var = 8\n",
    "\n",
    "if sample_var < 4:\n",
    "    sample_var += 1\n",
    "elif sample_var > 6:\n",
    "    sample_var += 2\n",
    "else:\n",
    "    sample_var = 0\n",
    "\n",
    "\n",
    "print(sample_var)"
   ]
  },
  {
   "cell_type": "code",
   "execution_count": null,
   "metadata": {},
   "outputs": [],
   "source": [
    "# don't mistake \"elif\" as \"another if\" statement\n",
    "\n",
    "sample_var = 8\n",
    "\n",
    "if sample_var < 4:\n",
    "    sample_var += 1\n",
    "elif sample_var > 6:\n",
    "    sample_var += 2\n",
    "else:\n",
    "    sample_var = 0\n",
    "\n",
    "if sample_var > 6:\n",
    "    sample_var += 2\n",
    "\n",
    "print(sample_var)"
   ]
  },
  {
   "cell_type": "markdown",
   "metadata": {},
   "source": [
    "### Multi-conditions\n",
    "\n",
    "We can use comparison and membership operators in conjunction with **Logical Operators (`or`, `and`)** to create multi-condition checks for the flow of our program's logic.\n",
    "\n",
    "It is a good practice to separate each conditional check with parentheses (). This would give our code a cleaner look."
   ]
  },
  {
   "cell_type": "code",
   "execution_count": null,
   "metadata": {},
   "outputs": [],
   "source": [
    "another_var = 7\n",
    "\n",
    "if (another_var > 3) and (another_var < 8):\n",
    "    print(\"Variable value is between 3 and 8.\")"
   ]
  },
  {
   "cell_type": "code",
   "execution_count": null,
   "metadata": {
    "collapsed": false,
    "pycharm": {
     "is_executing": true,
     "name": "#%%\n"
    }
   },
   "outputs": [],
   "source": [
    "input_var = input(\"If you agree enter 'y' or 'Y', otherwise enter 'n' or 'N': \")\n",
    "\n",
    "if input_var == 'Y' or input_var == 'y':\n",
    "    print(\"YOU AGREED\")\n",
    "elif input_var == 'N' or input_var == 'n':\n",
    "    print(\"YOU DISAGREED\")\n",
    "else:\n",
    "    print(\"INVALID INPUT\")"
   ]
  },
  {
   "cell_type": "code",
   "execution_count": null,
   "metadata": {},
   "outputs": [],
   "source": [
    "input_var = input(\"If you agree enter 'y' or 'Y', otherwise enter 'n' or 'N': \")\n",
    "\n",
    "# you may want to write the same logic in a cleaner \"Pythonic\" way\n",
    "if input_var in ('Y', 'y'):\n",
    "    print(\"YOU AGREED\")\n",
    "elif input_var in ('N', 'n'):\n",
    "    print(\"YOU DISAGREED\")\n",
    "else:\n",
    "    print(\"INVALID INPUT\")"
   ]
  },
  {
   "cell_type": "code",
   "execution_count": null,
   "metadata": {
    "collapsed": false,
    "pycharm": {
     "is_executing": true,
     "name": "#%%\n"
    }
   },
   "outputs": [],
   "source": [
    "# an example of utilizing multi check conditions to find the max value\n",
    "# note that if the largest value is duplicated, the else statement triggers\n",
    "a = 9\n",
    "b = 6\n",
    "c = 4\n",
    "\n",
    "# finding the maximum value using if statements\n",
    "if (a > b) and (a > c):\n",
    "    print(\"Finding max value using if statement:\", a, \" is the largest\")\n",
    "elif (b > a) and (b > c):\n",
    "    print(\"Finding max value using if statement:\", b, \" is the largest\")\n",
    "elif (c > a) and (c > b):\n",
    "    print(\"Finding max value using if statement:\", c, \" is the largest\")\n",
    "else:\n",
    "    print(\"Duplicate numbers detected\")"
   ]
  },
  {
   "cell_type": "code",
   "execution_count": null,
   "metadata": {},
   "outputs": [],
   "source": [
    "# the above cell of course is not an efficient way of handling max value problem\n",
    "# just imagine how many if conditions and multi-compares you would need to find the largest value among 10 numbers!\n",
    "\n",
    "# this one-liner is way better, and it scales well\n",
    "print(f\"Finding max value using max() function: {max(a,b,c)} is the largest\")"
   ]
  },
  {
   "cell_type": "code",
   "execution_count": null,
   "metadata": {
    "collapsed": false,
    "pycharm": {
     "is_executing": true,
     "name": "#%%\n"
    }
   },
   "outputs": [],
   "source": [
    "age = 27\n",
    "exp = 5\n",
    "state = \"unemployed\"\n",
    "\n",
    "if (25 < age < 60) and (exp > 4) and not (state==\"hired\"):\n",
    "    print(\"You are hired!\")\n",
    "else:\n",
    "    print(\"Sorry! We can't hire you.\")"
   ]
  },
  {
   "cell_type": "markdown",
   "metadata": {},
   "source": [
    "### Switch Case\n",
    "\n",
    "Switch cases are a assisting option in many programming languages that make it easy to avoid using many `if..else` statements. Here is how a typical switch case looks like in other languages such as `C`:\n",
    "\n",
    "```c\n",
    "switch(expression) {\n",
    "  case value1:\n",
    "    // code block\n",
    "    break;\n",
    "  case value2:\n",
    "    // code block\n",
    "    break;\n",
    "  default:\n",
    "    // code block\n",
    "} \n",
    "```\n",
    "\n",
    "The above code snippet is interpreted this way:\n",
    "- `expression` part gets evaluated (only once), most of the time it is the variable we are targeting to check the value for\n",
    "- each `case` is the comparison part of the value checking for that `expression`\n",
    "- whenever a `case` statement is true, the associated `code block` for that `case` is executed\n",
    "- at the end of of a 'code block', the 'break statement' indicates getting out of the whole switch case and the stoppage of the rest case checks\n",
    "- `default` statement at the end of a switch case is optional, and it implies some other code lines to run, only if there is no case match till the end of case checks\n",
    "\n",
    "For example, here is a switch case for returning the equivalent name of week days based on their ordinal integer number:\n",
    "\n",
    "```c\n",
    "\n",
    "int dayNumber = 7\n",
    "\n",
    "switch (dayNumber) {\n",
    "  case 1:\n",
    "    printf(\"Monday\");\n",
    "    break;\n",
    "  case 2:\n",
    "    printf(\"Tuesday\");\n",
    "    break;\n",
    "  case 3:\n",
    "    printf(\"Wednesday\");\n",
    "    break;\n",
    "  case 4:\n",
    "    printf(\"Thursday\");\n",
    "    break;\n",
    "  case 5:\n",
    "    printf(\"Friday\");\n",
    "    break;\n",
    "  case 6:\n",
    "    printf(\"Saturday\");\n",
    "    break;\n",
    "  case 7:\n",
    "    printf(\"Sunday\");\n",
    "    break;\n",
    "  default:\n",
    "    printf(\"Not a valid number provided. Week day numbers must be in [1 to 7] range.\");\n",
    "}\n",
    "\n",
    "// execution of above code outputs \"Sunday\" for a \"dayNumber\" variable with a value of \"7\".\n",
    "```\n",
    "\n",
    "Although many other programming languages offer switch statements, **Python does not have any switch statement**.\n",
    "\n",
    "With that said, we can still define a function which utilizes a dictionary inside, in order to simulate the same behavior."
   ]
  },
  {
   "cell_type": "code",
   "execution_count": null,
   "metadata": {},
   "outputs": [],
   "source": [
    "# note: don't worry if you don't understand the code below, we'll learn about functions extensively in the next session\n",
    "\n",
    "def week_day(i):\n",
    "    # a dictionary that holds our \"cases\" and their corresponding \"values\"\n",
    "    switcher = {\n",
    "        1: 'Monday',\n",
    "        2: 'Tuesday',\n",
    "        3: 'Wednesday',\n",
    "        4: 'Thursday',\n",
    "        5: 'Friday',\n",
    "        6: 'Saturday',\n",
    "        7: 'Sunday'\n",
    "    }\n",
    "    return switcher.get(i,\"invalid day of week\")"
   ]
  },
  {
   "cell_type": "code",
   "execution_count": null,
   "metadata": {},
   "outputs": [],
   "source": [
    "week_day(7)"
   ]
  },
  {
   "cell_type": "markdown",
   "metadata": {},
   "source": [
    "## Loops & Iterations\n",
    "Using **for loops** and **while loops** in Python allows you to automate and repeat tasks in an efficient manner."
   ]
  },
  {
   "cell_type": "markdown",
   "metadata": {},
   "source": [
    "### Loops: `while` Statement"
   ]
  },
  {
   "cell_type": "code",
   "execution_count": null,
   "metadata": {
    "pycharm": {
     "is_executing": true
    }
   },
   "outputs": [],
   "source": [
    "x = 0\n",
    "while x < 4:\n",
    "    print(x)\n",
    "    x += 1  # x = x + 1"
   ]
  },
  {
   "cell_type": "code",
   "execution_count": null,
   "metadata": {},
   "outputs": [],
   "source": [
    "# conditional checks inside a loop\n",
    "\n",
    "x = 0\n",
    "while (x < 4):\n",
    "    if (x <= 3) and (x > 1):\n",
    "        print(x)\n",
    "    x += 1  # x = x + 1"
   ]
  },
  {
   "cell_type": "markdown",
   "metadata": {},
   "source": [
    "### Sequences Using the Built-in `range()` Function\n",
    "Before learning about `for` loops, we'd better get to know the very useful built-in `range()` function first.\n",
    "\n",
    "Ranges in Python are interpreted in this way:\n",
    "> mathematical notation: [start, end)"
   ]
  },
  {
   "cell_type": "code",
   "execution_count": null,
   "metadata": {},
   "outputs": [],
   "source": [
    "sequence_numbers = range(5)\n",
    "\n",
    "print(sequence_numbers)"
   ]
  },
  {
   "cell_type": "code",
   "execution_count": null,
   "metadata": {},
   "outputs": [],
   "source": [
    "type(sequence_numbers)"
   ]
  },
  {
   "cell_type": "code",
   "execution_count": null,
   "metadata": {},
   "outputs": [],
   "source": [
    "# unpacking range values as input arguments of a function\n",
    "print(*sequence_numbers)"
   ]
  },
  {
   "cell_type": "code",
   "execution_count": null,
   "metadata": {},
   "outputs": [],
   "source": [
    "print(*range(1,5))"
   ]
  },
  {
   "cell_type": "code",
   "execution_count": null,
   "metadata": {},
   "outputs": [],
   "source": [
    "print(*range(1,5,1))"
   ]
  },
  {
   "cell_type": "code",
   "execution_count": null,
   "metadata": {},
   "outputs": [],
   "source": [
    "print(*range(1,5,2))"
   ]
  },
  {
   "cell_type": "code",
   "execution_count": null,
   "metadata": {},
   "outputs": [],
   "source": [
    "print(*range(10))"
   ]
  },
  {
   "cell_type": "code",
   "execution_count": null,
   "metadata": {},
   "outputs": [],
   "source": [
    "print(*range(1,11))"
   ]
  },
  {
   "cell_type": "markdown",
   "metadata": {},
   "source": [
    "### Loops: `for` Statement\n",
    "\n",
    "\"For loops\" in Python start with a `for` statement, followed by an *optional* name for each iterable object (so that we can refer to them later in loop block), `in` keyword, iterable array object and a colon (:) sign.\n",
    "\n",
    "Any line indented after the `for` statement is considered as the loop instruction, which gets executed for every iteration. Each iteration considers a complete run of loop instructions for a specific item in designated iterable object.\n",
    "\n",
    "Here is the pseudo-code of `for` loops in Python:\n",
    "\n",
    "```python\n",
    "for each_item in iterable_object:\n",
    "    indented_code_instruction1\n",
    "    indented_code_instruction2\n",
    "    indented_code_instruction3\n",
    "    ...\n",
    "```"
   ]
  },
  {
   "cell_type": "code",
   "execution_count": null,
   "metadata": {},
   "outputs": [],
   "source": [
    "# loop for 5 times, starting from 1\n",
    "for i in range(1, 6):\n",
    "    print(i)"
   ]
  },
  {
   "cell_type": "code",
   "execution_count": null,
   "metadata": {},
   "outputs": [],
   "source": [
    "# loop for 5 times, starting from 0\n",
    "for i in range(5):\n",
    "    print(i)"
   ]
  },
  {
   "cell_type": "markdown",
   "metadata": {},
   "source": [
    "#### Nested `for` Loops\n",
    "\n",
    "\"Nested loops\" term refers loops inside other loops, and this notion can have unlimited depth.\n",
    "\n",
    "The total number of operations that gets done in nested loops, is calculated by **m\\*n\\*...**, in which *m* stands for the iteration count of the first loop, *n* stands for the iteration count of the second loop, and so on."
   ]
  },
  {
   "cell_type": "code",
   "execution_count": null,
   "metadata": {},
   "outputs": [],
   "source": [
    "# multiplication table example for numbers 1 to 10\n",
    "# 100 print operations is executed (i*j)\n",
    "\n",
    "# outer loop\n",
    "for i in range(1, 11):\n",
    "\n",
    "    # inner loop\n",
    "    for j in range(1, 11):\n",
    "\n",
    "        # print the multiplication value and give it a tab-sized space after\n",
    "        print(i*j, end='\\t')\n",
    "\n",
    "    # move one row down at the end of each iteration of outer loop \n",
    "    print()"
   ]
  },
  {
   "cell_type": "markdown",
   "metadata": {},
   "source": [
    "#### Iteration over Sequences"
   ]
  },
  {
   "cell_type": "markdown",
   "metadata": {},
   "source": [
    "##### Lists"
   ]
  },
  {
   "cell_type": "code",
   "execution_count": null,
   "metadata": {},
   "outputs": [],
   "source": [
    "mixed_list = ['rr', 5, [4,6]]\n",
    "\n",
    "print(type(mixed_list), mixed_list)"
   ]
  },
  {
   "cell_type": "code",
   "execution_count": null,
   "metadata": {},
   "outputs": [],
   "source": [
    "# looping in Lists\n",
    "for each_item in mixed_list:\n",
    "    print(type(each_item), each_item)"
   ]
  },
  {
   "cell_type": "markdown",
   "metadata": {},
   "source": [
    "##### Tuples"
   ]
  },
  {
   "cell_type": "code",
   "execution_count": null,
   "metadata": {},
   "outputs": [],
   "source": [
    "fruits = ('Apples', 'Oranges', 'Bananas')\n",
    "print(type(fruits), fruits)"
   ]
  },
  {
   "cell_type": "code",
   "execution_count": null,
   "metadata": {},
   "outputs": [],
   "source": [
    "# looping in Tuples\n",
    "for each_fruit in fruits:\n",
    "    print(type(each_fruit), each_fruit)"
   ]
  },
  {
   "cell_type": "markdown",
   "metadata": {},
   "source": [
    "##### Sets"
   ]
  },
  {
   "cell_type": "code",
   "execution_count": null,
   "metadata": {},
   "outputs": [],
   "source": [
    "my_skillset = {'engineering principles', 'programming'}\n",
    "print(type(my_skillset), my_skillset)"
   ]
  },
  {
   "cell_type": "code",
   "execution_count": null,
   "metadata": {},
   "outputs": [],
   "source": [
    "# looping in Sets\n",
    "for skill in my_skillset:\n",
    "    print(type(skill), skill)"
   ]
  },
  {
   "cell_type": "markdown",
   "metadata": {},
   "source": [
    "**If you ever need to enumerate Lists, Tuples and Sets by a (virtual) index and its corresponding value:**"
   ]
  },
  {
   "cell_type": "code",
   "execution_count": null,
   "metadata": {},
   "outputs": [],
   "source": [
    "for index, skill in enumerate(my_skillset):\n",
    "    print(index, ':', skill)"
   ]
  },
  {
   "cell_type": "markdown",
   "metadata": {},
   "source": [
    "##### Dictionaries"
   ]
  },
  {
   "cell_type": "code",
   "execution_count": null,
   "metadata": {
    "pycharm": {
     "is_executing": true
    }
   },
   "outputs": [],
   "source": [
    "new_club_member = {\n",
    "    \"name\": \"Mehrdad\",\n",
    "    \"birth_date\": \"11/29/2001\",\n",
    "    \"rating\": 9.5,\n",
    "    \"memberships\": [\"gym\", \"pool\", \"aerobics\"]\n",
    "}\n",
    "\n",
    "print(type(new_club_member), new_club_member)"
   ]
  },
  {
   "cell_type": "code",
   "execution_count": null,
   "metadata": {
    "pycharm": {
     "is_executing": true
    }
   },
   "outputs": [],
   "source": [
    "# looping in Dictionaries\n",
    "\n",
    "# iterate over dictionary keys\n",
    "for member_detail_key in new_club_member.keys():\n",
    "    print(member_detail_key)"
   ]
  },
  {
   "cell_type": "code",
   "execution_count": null,
   "metadata": {
    "pycharm": {
     "is_executing": true
    }
   },
   "outputs": [],
   "source": [
    "# iterating over only dictionary object would result in iteration on keys\n",
    "for member_detail_key in new_club_member:\n",
    "    print(member_detail_key)"
   ]
  },
  {
   "cell_type": "code",
   "execution_count": null,
   "metadata": {},
   "outputs": [],
   "source": [
    "# iterate over dictionary values\n",
    "for member_detail_value in new_club_member.values():\n",
    "    print(type(member_detail_value), member_detail_value)"
   ]
  },
  {
   "cell_type": "code",
   "execution_count": null,
   "metadata": {},
   "outputs": [],
   "source": [
    "# iterate over dictionary items (<key, value>)\n",
    "for item_key, item_value in new_club_member.items():\n",
    "    print(item_key, ':', item_value)"
   ]
  },
  {
   "cell_type": "code",
   "execution_count": null,
   "metadata": {},
   "outputs": [],
   "source": [
    "# another way to iterate over dictionary items (<key, value>)\n",
    "# this is not \"Pythonic\" and not preferred\n",
    "\n",
    "for key in new_club_member:\n",
    "    print(key, ':', new_club_member[key])"
   ]
  },
  {
   "cell_type": "markdown",
   "metadata": {},
   "source": [
    "#### Reverse Iteration"
   ]
  },
  {
   "cell_type": "code",
   "execution_count": null,
   "metadata": {},
   "outputs": [],
   "source": [
    "x = [1, 2, 3, 5, 8, 11]\n",
    "\n",
    "for item in reversed(x):\n",
    "    print(item)"
   ]
  },
  {
   "cell_type": "markdown",
   "metadata": {},
   "source": [
    "#### Iteration over Multiple Arrays"
   ]
  },
  {
   "cell_type": "code",
   "execution_count": null,
   "metadata": {},
   "outputs": [],
   "source": [
    "names = ['Mehrdad', 'Pooneh', 'Zhaleh']\n",
    "ages  = [25, 24, 30]\n",
    "\n",
    "for person in zip(names, ages):\n",
    "    print(person)"
   ]
  },
  {
   "cell_type": "code",
   "execution_count": null,
   "metadata": {},
   "outputs": [],
   "source": [
    "type(person)"
   ]
  },
  {
   "cell_type": "markdown",
   "metadata": {},
   "source": [
    "And if we want to refer to each value individually:"
   ]
  },
  {
   "cell_type": "code",
   "execution_count": null,
   "metadata": {},
   "outputs": [],
   "source": [
    "for name, age in zip(names, ages):\n",
    "    print(name, age)"
   ]
  },
  {
   "cell_type": "markdown",
   "metadata": {},
   "source": [
    "#### Break, Continue, and Pass\n",
    "Your program may behave differently depending on some external factors. In such cases, you may need to exit a loop entirely, skip some steps of a loop, or ignore those factors. To control the flow of your program based on some external factors, you can use **`break`** (to exit the loop completely), **`continue`** (to skip an iteration of the loop), and **`pass`** (to ignore the forced condition) statements."
   ]
  },
  {
   "cell_type": "markdown",
   "metadata": {},
   "source": [
    "##### Break Statement\n",
    "- When an external condition is met, you can use the `break` statement to end the loop that contains it.\n",
    "- When a `break` happens, program flow continues by executing the following lines after the for loop.\n",
    "- You put the `break` statement within the block of code under your loop statement, ***usually after a conditional if*** statement.\n",
    "- If `break` statement is inside a nested loop (loop inside another loop), break will terminate the innermost loop."
   ]
  },
  {
   "cell_type": "code",
   "execution_count": null,
   "metadata": {
    "pycharm": {
     "is_executing": true
    }
   },
   "outputs": [],
   "source": [
    "for character in \"my test string\":\n",
    "    if character == \"r\":\n",
    "        break\n",
    "    print(character)\n",
    "\n",
    "print(\"End of Loop\")"
   ]
  },
  {
   "cell_type": "markdown",
   "metadata": {},
   "source": [
    "##### Continue Statement\n",
    "To skip the remaining code in a loop for the current iteration, you can use the `continue` statement.\n",
    "\n",
    "Note that `continue` statement does not terminate (stop) current loop. The loop continues on with the **next iteration**."
   ]
  },
  {
   "cell_type": "code",
   "execution_count": null,
   "metadata": {
    "pycharm": {
     "is_executing": true
    }
   },
   "outputs": [],
   "source": [
    "for character in \"my test string\":\n",
    "    if character == \"t\":\n",
    "        continue\n",
    "    print(character)\n",
    "\n",
    "print(\"End of Loop\")"
   ]
  },
  {
   "cell_type": "code",
   "execution_count": null,
   "metadata": {
    "collapsed": false,
    "pycharm": {
     "is_executing": true,
     "name": "#%%\n"
    }
   },
   "outputs": [],
   "source": [
    "# let's see what happens if we run a simple code block once with break, and once with continue statements\n",
    "print(\"Example with 'break' statement:\")\n",
    "i = 0\n",
    "while i < 6:\n",
    "    i += 1\n",
    "    if i == 3:\n",
    "        break\n",
    "    print(i)\n",
    "\n",
    "print(\"\\nExample with 'continue' statement:\")\n",
    "i = 0\n",
    "while i < 6:\n",
    "    i += 1\n",
    "    if i == 3:\n",
    "        continue\n",
    "    print(i)"
   ]
  },
  {
   "cell_type": "markdown",
   "metadata": {},
   "source": [
    "##### Pass Statement\n",
    "\n",
    "The `pass` statement lets you handle an external condition without affecting the loop. The loop will continue to run all the code, unless there is a `break` or another statement that stops it.\n",
    "\n",
    "The `pass` statement is usually placed inside the code block of the loop statement, typically after a conditional `if` statement that checks for an external condition."
   ]
  },
  {
   "cell_type": "code",
   "execution_count": null,
   "metadata": {},
   "outputs": [],
   "source": [
    "for character in \"my test string\":\n",
    "    if character == \"t\":\n",
    "        pass\n",
    "    print(character)\n",
    "\n",
    "print(\"End of Loop\")"
   ]
  },
  {
   "cell_type": "markdown",
   "metadata": {},
   "source": [
    "The program will continue to run the loop on this iteration, because of the `pass` statement that follows the `if` condition, doing nothing regarding the fact that the character “t” has been seen.\n",
    "\n",
    "So you might ask, **how on earth should we implement such a seemingly useless option?**\n",
    "\n",
    "The answer is that the `pass` statement can be used as **a placeholder to create empty functions and classes**, while we want to postpone working on new code and need extra time thinking on an algorithmic level; later on we can hammer out the algorithm details replacing the `pass` statement."
   ]
  },
  {
   "cell_type": "markdown",
   "metadata": {},
   "source": [
    "## Comprehensions in Python\n",
    "\n",
    "Comprehensions are a feature of Python that allow us to create new arrays from existing sequences, in an easy and elegant way. They give us also the option of applying filters, mappings, and conditional logics to the elements of the sequences while building the new arrays.\n",
    "\n",
    "**Note:** Comprehensions can only be used for building new sequences from **Lists**, **Sets** and **Dictionaries**."
   ]
  },
  {
   "cell_type": "code",
   "execution_count": null,
   "metadata": {},
   "outputs": [],
   "source": [
    "# build a new list with filtered values\n",
    "\n",
    "sample_list = [3, 4, 5, 6, 7]\n",
    "\n",
    "sample_list_filtered = [x for x in sample_list if x > 5]\n",
    "\n",
    "print(sample_list_filtered)"
   ]
  },
  {
   "cell_type": "markdown",
   "metadata": {},
   "source": [
    "In order to understand how to form a comprehension statement, you can think of interpreting them just like \"`for` loops\":"
   ]
  },
  {
   "cell_type": "code",
   "execution_count": null,
   "metadata": {},
   "outputs": [],
   "source": [
    "# the following multi-lines are equivalent to the simple one-line comprehension statement above\n",
    "\n",
    "sample_list_filtered = []\n",
    "for x in sample_list:\n",
    "    if x > 5:\n",
    "        sample_list_filtered.append(x)\n",
    "\n",
    "print(sample_list_filtered)"
   ]
  },
  {
   "cell_type": "code",
   "execution_count": null,
   "metadata": {
    "pycharm": {
     "is_executing": true
    }
   },
   "outputs": [],
   "source": [
    "# building a set using comprehensions and applying a membership filter\n",
    "unique_characters = {x for x in 'abcddeef' if x not in 'abc'}\n",
    "print(unique_characters)"
   ]
  },
  {
   "cell_type": "code",
   "execution_count": null,
   "metadata": {},
   "outputs": [],
   "source": [
    "type(unique_characters)"
   ]
  },
  {
   "cell_type": "code",
   "execution_count": null,
   "metadata": {
    "pycharm": {
     "is_executing": true
    }
   },
   "outputs": [],
   "source": [
    "# build a new Dictionary\n",
    "sample_dict = {x: x**2 for x in range(5)}\n",
    "print(sample_dict)"
   ]
  },
  {
   "cell_type": "code",
   "execution_count": null,
   "metadata": {},
   "outputs": [],
   "source": [
    "type(sample_dict)"
   ]
  },
  {
   "cell_type": "code",
   "execution_count": null,
   "metadata": {
    "collapsed": false,
    "pycharm": {
     "is_executing": true,
     "name": "#%%\n"
    }
   },
   "outputs": [],
   "source": [
    "# using two separate Lists to represent keys and values\n",
    "keys = ['zero', 'one','two','there','four','five', 'six', 'seven', 'eight', 'nine']\n",
    "values = [0, 1, 2, 3, 4, 5, 6, 7, 8, 9]\n",
    "\n",
    "# creating a dictionary object by those two Lists\n",
    "# utilizes dictionary comprehensions and zip function\n",
    "number_dict = {k:v for (k,v) in zip(keys, values)}\n",
    "print (number_dict)"
   ]
  },
  {
   "cell_type": "code",
   "execution_count": null,
   "metadata": {},
   "outputs": [],
   "source": [
    "# of course, there is a simpler way to achieve the same goal\n",
    "number_dict1 = dict(zip(keys, values))\n",
    "print (number_dict1)"
   ]
  },
  {
   "cell_type": "markdown",
   "metadata": {},
   "source": [
    "We can even replace nested \"`for` loops\" with comprehensions:"
   ]
  },
  {
   "cell_type": "code",
   "execution_count": null,
   "metadata": {
    "pycharm": {
     "is_executing": true
    }
   },
   "outputs": [],
   "source": [
    "some_list = [[1,2,3], [4,5,6], [7], [8,9]]\n",
    "\n",
    "new_list = []\n",
    "for item in some_list:\n",
    "    for x in item:\n",
    "        new_list.append(x**2)\n",
    "\n",
    "print(new_list)"
   ]
  },
  {
   "cell_type": "code",
   "execution_count": null,
   "metadata": {},
   "outputs": [],
   "source": [
    "# the equivalent comprehension statement of for loop above\n",
    "new_list = [x**2 for item in some_list for x in item]\n",
    "\n",
    "print(new_list)"
   ]
  },
  {
   "cell_type": "code",
   "execution_count": null,
   "metadata": {},
   "outputs": [],
   "source": [
    "# create matrices using nested list comprehensions\n",
    "rows = 2\n",
    "cols = 5\n",
    "matrix = [ [0 for _ in range(cols)] for _ in range(rows) ]\n",
    "\n",
    "matrix"
   ]
  },
  {
   "cell_type": "markdown",
   "metadata": {},
   "source": [
    "Comprehensions are even faster compared to `for` loops:"
   ]
  },
  {
   "cell_type": "code",
   "execution_count": null,
   "metadata": {},
   "outputs": [],
   "source": [
    "from timeit import timeit\n",
    "\n",
    "statement_loop = \"\"\"\n",
    "some_list = [[1,2,3], [4,5,6], [7], [8,9]]\n",
    "\n",
    "new_list = []\n",
    "for item in some_list:\n",
    "    for x in item:\n",
    "        new_list.append(x**2)\n",
    "\"\"\"\n",
    "\n",
    "statement_comprehension = \"\"\"\n",
    "some_list = [[1,2,3], [4,5,6], [7], [8,9]]\n",
    "\n",
    "new_list = [x**2 for item in some_list for x in item]\n",
    "\"\"\"\n",
    "\n",
    "print(\n",
    "    f'Running Time of <<Loop>>:\\n\\t\\t{timeit(statement_loop, number=1000000):.4f}',\n",
    "    f'Running Time of <<comprehension>>:\\n\\t\\t{timeit(statement_comprehension, number=1000000):.4f}',\n",
    "    sep='\\n'\n",
    ")"
   ]
  }
 ],
 "metadata": {
  "kernelspec": {
   "display_name": "base",
   "language": "python",
   "name": "python3"
  },
  "language_info": {
   "codemirror_mode": {
    "name": "ipython",
    "version": 3
   },
   "file_extension": ".py",
   "mimetype": "text/x-python",
   "name": "python",
   "nbconvert_exporter": "python",
   "pygments_lexer": "ipython3",
   "version": "3.9.17"
  },
  "orig_nbformat": 4
 },
 "nbformat": 4,
 "nbformat_minor": 2
}
