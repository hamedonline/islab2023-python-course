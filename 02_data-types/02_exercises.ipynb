{
 "cells": [
  {
   "cell_type": "markdown",
   "metadata": {},
   "source": [
    "# Exercises for Session 2"
   ]
  },
  {
   "cell_type": "markdown",
   "metadata": {},
   "source": [
    "## Exercise 2.1\n",
    "Investigate which one of following ways is a faster option when it comes to declaring lists?\n",
    "\n",
    "```python\n",
    "my_list = []\n",
    "# or\n",
    "my_list = list()\n",
    "```\n",
    "\n",
    "How about tuples?\n",
    "\n",
    "```python\n",
    "my_tuple = ()\n",
    "# or\n",
    "my_tuple = tuple()\n",
    "```\n",
    "\n",
    "Can you make a guess what the reason could be?"
   ]
  },
  {
   "cell_type": "markdown",
   "metadata": {},
   "source": [
    "## Exercise 2.2\n",
    "\n",
    "Run the following cells one by one to catch a glimpse of how a simple change could cause unforeseen logical errors in coding."
   ]
  },
  {
   "cell_type": "code",
   "execution_count": null,
   "metadata": {},
   "outputs": [],
   "source": [
    "# tuple\n",
    "tuple_var1 = (\"apple\",)\n",
    "print(tuple_var1)\n",
    "print(type(tuple_var1))"
   ]
  },
  {
   "cell_type": "code",
   "execution_count": null,
   "metadata": {},
   "outputs": [],
   "source": [
    "# is this still a tuple?\n",
    "tuple_var2 = (\"apple\")\n",
    "print(tuple_var2)\n",
    "print(type(tuple_var2))"
   ]
  },
  {
   "cell_type": "code",
   "execution_count": null,
   "metadata": {},
   "outputs": [],
   "source": [
    "# tuple or something else?\n",
    "tuple_var4 = tuple((\"apple\"))\n",
    "print(tuple_var4)\n",
    "print(type(tuple_var4))"
   ]
  },
  {
   "cell_type": "code",
   "execution_count": null,
   "metadata": {},
   "outputs": [],
   "source": [
    "# another tuple?\n",
    "tuple_var5 = tuple((\"apple\",))\n",
    "print(tuple_var5)\n",
    "print(type(tuple_var5))"
   ]
  },
  {
   "cell_type": "markdown",
   "metadata": {},
   "source": [
    "## Exercise 2.3\n",
    "\n",
    "You are given a task to decide on a array data type for the following mapping:\n",
    "\n",
    "0 -> 11\n",
    "\n",
    "1 -> 15\n",
    "\n",
    "2 -> 40\n",
    "\n",
    "3 -> 55\n",
    "\n",
    "4 -> 60\n",
    "\n",
    "5 -> 90\n",
    "\n",
    "Which composite data type would you suggest to store the above mapping? Explain your answer and tell us about the reason behind your decision. Then create the data type with given map values."
   ]
  },
  {
   "cell_type": "code",
   "execution_count": 10,
   "metadata": {},
   "outputs": [],
   "source": [
    "# Tell us about your reason first:\n",
    "# \n",
    "# \n",
    "\n",
    "\n",
    "# implementation code for your data type of choice goes here\n"
   ]
  },
  {
   "cell_type": "markdown",
   "metadata": {},
   "source": [
    "## Exercise 2.4\n",
    "\n",
    "Create a list object that contains 10 integer numbers (values could be anything you like). Sort this list in both ascending and descending order and print out the items for each sort."
   ]
  },
  {
   "cell_type": "code",
   "execution_count": null,
   "metadata": {},
   "outputs": [],
   "source": [
    "# your answer goes here\n"
   ]
  },
  {
   "cell_type": "markdown",
   "metadata": {},
   "source": [
    "## Exercise 2.5\n",
    "\n",
    "Run the following code to convert the Dictionary object to a List.\n",
    "\n",
    "```python\n",
    "prizes = {'1st place': 'Gold', '2nd place': 'Silver', '3rd place':'Bronze'}\n",
    "list(prizes)\n",
    "```\n",
    "\n",
    "What modification should you make to get the values of dictionary object (medal types in this case)?"
   ]
  },
  {
   "cell_type": "code",
   "execution_count": null,
   "metadata": {},
   "outputs": [],
   "source": [
    "# your answer goes here\n"
   ]
  }
 ],
 "metadata": {
  "kernelspec": {
   "display_name": "base",
   "language": "python",
   "name": "python3"
  },
  "language_info": {
   "codemirror_mode": {
    "name": "ipython",
    "version": 3
   },
   "file_extension": ".py",
   "mimetype": "text/x-python",
   "name": "python",
   "nbconvert_exporter": "python",
   "pygments_lexer": "ipython3",
   "version": "3.9.17"
  },
  "orig_nbformat": 4
 },
 "nbformat": 4,
 "nbformat_minor": 2
}
