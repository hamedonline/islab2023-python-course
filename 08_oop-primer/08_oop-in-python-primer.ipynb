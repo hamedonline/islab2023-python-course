{
 "cells": [
  {
   "cell_type": "markdown",
   "metadata": {},
   "source": [
    "# Object-Oriented Programming in Python - Primer"
   ]
  },
  {
   "cell_type": "markdown",
   "metadata": {},
   "source": [
    "## Classes & Objects\n",
    "\n",
    "A class is a blueprint, a structure, a model that is used to create as many sample objects as desired from it.\n",
    "\n",
    "It could be seen as a way to define **attributes** and **behavior**, packed into one single notion that satisfies a purpose.\n",
    "\n",
    "As an example, consider a *Vehicle* **class**. It can have various **attributes** such as number of wheels, type of fuel, seating capacity, and etc. All the vehicles you see around in the streets can be regarded as **instances** or **objects** of the *vehicle class*. We can safely say that **Objects** are instances of a class.\n",
    "\n",
    "Everything in Python is an object, even the variables. Therefore whenever we put a dot '.' after a variable (name), we are summoning its attributes / behaviors.\n",
    "\n",
    "What else do we call these *attributes* and *behaviors* in other programming languages?\n",
    "- **Data** or **Attributes**: Values that represent the state of an object => AKA *class variable* AKA *property* AKA *member variable* AKA *instance variable*\n",
    "- **Behaviors**: Methods or functions defined inside the class => AKA *class function* AKA *method* AKA *member function* AKA *instance function* AKA *object/instance method*"
   ]
  },
  {
   "cell_type": "markdown",
   "metadata": {},
   "source": [
    "### Defining a Class"
   ]
  },
  {
   "cell_type": "code",
   "execution_count": null,
   "metadata": {},
   "outputs": [],
   "source": [
    "# syntax for defining a class in Python\n",
    "\n",
    "class Vehicle:\n",
    "    pass"
   ]
  },
  {
   "cell_type": "markdown",
   "metadata": {},
   "source": [
    "**Note:** The class statement is simply a definition or a blueprint, and does not perform any action on its own. This is similar to a function definition. We need to first instantiate an object to be able to do things."
   ]
  },
  {
   "cell_type": "markdown",
   "metadata": {},
   "source": [
    "**Constructor**\n",
    "\n",
    "We use the **\\_\\_init\\_\\_** method to pass in the desired attribute values and define them while creating an object (instance of a class).\n",
    "\n",
    "It is commonly called **Constructor**.\n",
    "\n",
    "**Note:** Note that the double leading and trailing underscores (for example: \\_\\_init\\_\\_), denote objects or attributes that are used by Python, but live in user-controlled namespaces.\n",
    "\n",
    "Methods (or objects or attributes) like: **\\_\\_init\\_\\_**, **\\_\\_str\\_\\_**, **\\_\\_repr\\_\\_** etc., are called **Special Methods** AKA **Magic Methods** (or sometimes called dunder methods). You should **not** invent such names on your own."
   ]
  },
  {
   "cell_type": "code",
   "execution_count": null,
   "metadata": {},
   "outputs": [],
   "source": [
    "class Vehicle:\n",
    "    def __init__(self, number_of_wheels, type_of_fuel, seating_capacity, max_speed):\n",
    "        # instance data are set & accessed via 'self' notation\n",
    "        # 'self' represents the object itself, always passed as first argument in methods if we want to have access to instance properties\n",
    "        self.number_of_wheels = number_of_wheels\n",
    "        self.type_of_fuel = type_of_fuel\n",
    "        self.seating_capacity = seating_capacity\n",
    "        self.max_speed = max_speed\n"
   ]
  },
  {
   "cell_type": "markdown",
   "metadata": {},
   "source": [
    "### Creating Instance Objects"
   ]
  },
  {
   "cell_type": "code",
   "execution_count": null,
   "metadata": {},
   "outputs": [],
   "source": [
    "# define example objects\n",
    "tesla_model_s = Vehicle(4, 'electric', 5, 260)\n",
    "ik_samand = Vehicle(4, 'CNG', 5, 180)"
   ]
  },
  {
   "cell_type": "markdown",
   "metadata": {},
   "source": [
    "### Accessing Properties and Methods of an Object\n",
    "\n",
    "**How can we read the values of an object's attributes?**\n",
    "- we can call them directly with a dot '.' following an object's name\n",
    "- we can define a method (behavior) and send a message to the object asking about them"
   ]
  },
  {
   "cell_type": "code",
   "execution_count": null,
   "metadata": {},
   "outputs": [],
   "source": [
    "# use dot notation to get access to properties and methods of an object\n",
    "print(tesla_model_s.type_of_fuel)"
   ]
  },
  {
   "cell_type": "code",
   "execution_count": null,
   "metadata": {},
   "outputs": [],
   "source": [
    "# each instance contains its own local data\n",
    "print(ik_samand.type_of_fuel)"
   ]
  },
  {
   "cell_type": "markdown",
   "metadata": {},
   "source": [
    "**`self` convention**\n",
    "\n",
    "The first parameter of `__init__` method (and other methods in the class) is ordinarily `self` term. `self` represents the instance of the class. The first parameter of methods is the instance the method is called on.\n",
    "\n",
    "`self` is a convention, not a real Python keyword. We can use another parameter name in place of `self`, but it is advisable to use `self` because it increases the readability of code.\n",
    "\n",
    "**Note:** If you don't mention `self` in the beginning of an object's methods definition, those methods won't have access to object's attributes."
   ]
  },
  {
   "cell_type": "code",
   "execution_count": null,
   "metadata": {},
   "outputs": [],
   "source": [
    "class Vehicle:\n",
    "    def __init__(self, number_of_wheels, type_of_fuel, seating_capacity, max_speed):\n",
    "        self.number_of_wheels = number_of_wheels\n",
    "        self.type_of_fuel = type_of_fuel\n",
    "        self.seating_capacity = seating_capacity\n",
    "        self.max_speed = max_speed\n",
    "\n",
    "    def get_number_of_wheels(self):\n",
    "        return self.number_of_wheels\n",
    "\n",
    "    def get_max_speed(self):\n",
    "        return self.max_speed\n",
    "\n",
    "    def set_max_speed(self, new_max_speed):\n",
    "        self.max_speed = new_max_speed"
   ]
  },
  {
   "cell_type": "code",
   "execution_count": null,
   "metadata": {},
   "outputs": [],
   "source": [
    "# redefine a sample object\n",
    "tesla_model_s = Vehicle(4, 'electric', 5, 260)"
   ]
  },
  {
   "cell_type": "code",
   "execution_count": null,
   "metadata": {},
   "outputs": [],
   "source": [
    "tesla_model_s.get_max_speed()  # or tesla_model_s.max_speed"
   ]
  },
  {
   "cell_type": "code",
   "execution_count": null,
   "metadata": {},
   "outputs": [],
   "source": [
    "# use dot notation to get access to properties and methods of an object\n",
    "print(\n",
    "    f\"access directly: {tesla_model_s.max_speed}\",\n",
    "    f\"access via a defined method: {tesla_model_s.get_max_speed()}\",\n",
    "    sep=\"\\n\"\n",
    ")"
   ]
  },
  {
   "cell_type": "code",
   "execution_count": null,
   "metadata": {},
   "outputs": [],
   "source": [
    "# change a property value using object methods\n",
    "tesla_model_s.set_max_speed(300)\n",
    "\n",
    "\n",
    "# or you may use direct access to change the property value\n",
    "# this is not a recommended way since it is against good coding practices\n",
    "\n",
    "# tesla_model_s.max_speed = 300"
   ]
  },
  {
   "cell_type": "code",
   "execution_count": null,
   "metadata": {},
   "outputs": [],
   "source": [
    "tesla_model_s.get_max_speed()"
   ]
  },
  {
   "cell_type": "markdown",
   "metadata": {},
   "source": [
    "## Special Methods (Magic Methods)\n",
    "\n",
    "Python allows us to customize the behavior of instances via using *special* or so-called *magic* methods.\n",
    "\n",
    "Examples include the behavior while the object is used as an operand around different operators, or when it is accessed via Python's built-in methods such as `len()`, `print()`, `str()`, etc.\n",
    "\n",
    "We are allowed to define special methods inside classes, which are treated differently by Python interpreter. These special methods always have two underscores (`__`) at the beginning and end of their pre-defined term. The most obvious example we've seen so far is the `__init__` special method to define constructor routine for a `class`.\n",
    "\n",
    "There are several special methods in Python that we can **override** in the definition of our desired `class`. We'll see some examples in following cells."
   ]
  },
  {
   "cell_type": "markdown",
   "metadata": {},
   "source": [
    "### Special Methods for Item Accessing\n",
    "\n",
    "```python\n",
    "x_obj = SomeClass()\n",
    "\n",
    "len(x_obj)      x_obj.__len__()\n",
    "x_obj[a]        x_obj.__getitem__(a)\n",
    "x_obj[a] = v    x_obj.__setitem__(a,v)\n",
    "del x_obj[a]    x_obj.__delitem__(a)\n",
    "```\n",
    "\n",
    "Here is how we define these methods in our `class`:\n",
    "\n",
    "```python\n",
    "class SomeClass:\n",
    "    def __len__(self):\n",
    "        pass\n",
    "    def __getitem__(self, a):\n",
    "        pass\n",
    "    def __setitem__(self, a, v):\n",
    "        pass\n",
    "    def __delitem__(self, a):\n",
    "        pass\n",
    "```\n",
    "\n",
    "Use-case for `__getitem__` and `__setitem__`:\n",
    "\n",
    "```python\n",
    "getattr(tesla_model_s, 'max_speed')\n",
    "\n",
    "setattr(tesla_model_s, 'max_speed', 360)\n",
    "```\n"
   ]
  },
  {
   "cell_type": "markdown",
   "metadata": {},
   "source": [
    "### Special Methods for Math Operators\n",
    "\n",
    "If your customized class definition can exhibit mathematical behaviors, you may use the corresponding math special methods to extend the functionality of your class objects.\n",
    "\n",
    "Mathematical operators and their corresponding special methods:\n",
    "\n",
    "```python\n",
    "a + b       a.__add__(b)\n",
    "a - b       a.__sub__(b)\n",
    "a * b       a.__mul__(b)\n",
    "a / b       a.__truediv__(b)\n",
    "a // b      a.__floordiv__(b)\n",
    "a % b       a.__mod__(b)\n",
    "a << b      a.__lshift__(b)\n",
    "a >> b      a.__rshift__(b)\n",
    "a & b       a.__and__(b)\n",
    "a | b       a.__or__(b)\n",
    "a ^ b       a.__xor__(b)\n",
    "a ** b      a.__pow__(b)\n",
    "-a          a.__neg__()\n",
    "~a          a.__invert__()\n",
    "abs(a)      a.__abs__()\n",
    "```"
   ]
  },
  {
   "cell_type": "markdown",
   "metadata": {},
   "source": [
    "### Special Methods for String Operations\n",
    "\n",
    "We use `__str__` and `__repr__` to create printable outputs of an object:\n",
    "\n",
    "`__str__` :\n",
    "\n",
    "- Returns a readable, \"informal\" string representation of an object.\n",
    "- Is intended for end users and should return a nicely printable string.\n",
    "- Is called when `print()` is used or when `str()` is called on an object.\n",
    "\n",
    "`__repr__` :\n",
    "\n",
    "- Returns an \"official\" string representation of an object.\n",
    "- Is intended for developers and should return an unambiguous string.\n",
    "- Is called when `repr()` is used on an object.\n",
    "\n",
    "```python\n",
    "class SomeClass:\n",
    "    def __str__(self):\n",
    "        pass\n",
    "    def __repr__(self):\n",
    "        pass\n",
    "```"
   ]
  },
  {
   "cell_type": "code",
   "execution_count": null,
   "metadata": {},
   "outputs": [],
   "source": [
    "# an example class to demonstrate special methods for string operations\n",
    "\n",
    "class Person:\n",
    "    def __init__(self, name, age):\n",
    "        self.name = name\n",
    "        self.age = age\n",
    "\n",
    "    def __str__(self):\n",
    "        return f'{self.name} is {self.age} years old.'\n",
    "\n",
    "    def __repr__(self):\n",
    "        return f'Person(\"{self.name}\", {self.age})'\n",
    "\n",
    "\n",
    "# create an object instance\n",
    "person_obj = Person(\"Sharareh\", 30)\n",
    "\n",
    "# print string representations\n",
    "print(person_obj)\n",
    "repr(person_obj)"
   ]
  }
 ],
 "metadata": {
  "kernelspec": {
   "display_name": "base",
   "language": "python",
   "name": "python3"
  },
  "language_info": {
   "codemirror_mode": {
    "name": "ipython",
    "version": 3
   },
   "file_extension": ".py",
   "mimetype": "text/x-python",
   "name": "python",
   "nbconvert_exporter": "python",
   "pygments_lexer": "ipython3",
   "version": "3.9.17"
  },
  "orig_nbformat": 4
 },
 "nbformat": 4,
 "nbformat_minor": 2
}
