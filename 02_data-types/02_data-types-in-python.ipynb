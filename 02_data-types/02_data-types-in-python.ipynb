{
 "cells": [
  {
   "attachments": {},
   "cell_type": "markdown",
   "metadata": {},
   "source": [
    "# Data Types in Python"
   ]
  },
  {
   "attachments": {},
   "cell_type": "markdown",
   "metadata": {},
   "source": [
    "## Lists"
   ]
  },
  {
   "cell_type": "code",
   "execution_count": null,
   "metadata": {},
   "outputs": [],
   "source": [
    "we_are = ['engineers', 'python learners']\n",
    "\n",
    "print(we_are)"
   ]
  },
  {
   "cell_type": "code",
   "execution_count": null,
   "metadata": {},
   "outputs": [],
   "source": [
    "print(we_are[0])"
   ]
  },
  {
   "cell_type": "code",
   "execution_count": null,
   "metadata": {},
   "outputs": [],
   "source": [
    "print('list length:', len(we_are))"
   ]
  },
  {
   "cell_type": "code",
   "execution_count": null,
   "metadata": {},
   "outputs": [],
   "source": [
    "# does the list have an item?\n",
    "any(we_are)"
   ]
  },
  {
   "cell_type": "code",
   "execution_count": null,
   "metadata": {},
   "outputs": [],
   "source": [
    "# index of a specific item in the list\n",
    "we_are.index('python learners')\n"
   ]
  },
  {
   "cell_type": "code",
   "execution_count": null,
   "metadata": {},
   "outputs": [],
   "source": [
    "# if a list contain an specific item\n",
    "'engineers' in we_are"
   ]
  },
  {
   "cell_type": "code",
   "execution_count": null,
   "metadata": {},
   "outputs": [],
   "source": [
    "# add a new element to list\n",
    "we_are.append(\"ml enthusiasts\")\n",
    "print(we_are)"
   ]
  },
  {
   "cell_type": "code",
   "execution_count": null,
   "metadata": {},
   "outputs": [],
   "source": [
    "# remove an element by its value\n",
    "we_are.remove('python learners')\n",
    "print(we_are)"
   ]
  },
  {
   "cell_type": "code",
   "execution_count": null,
   "metadata": {},
   "outputs": [],
   "source": [
    "# remove an element by its index\n",
    "\n",
    "# remove the last element\n",
    "we_are.pop() # ~ we_are.pop(-1)\n",
    "print(we_are)"
   ]
  },
  {
   "cell_type": "code",
   "execution_count": null,
   "metadata": {},
   "outputs": [],
   "source": [
    "# remove the element with index 0\n",
    "we_are.pop(0)\n",
    "print(we_are)"
   ]
  },
  {
   "cell_type": "code",
   "execution_count": null,
   "metadata": {},
   "outputs": [],
   "source": [
    "# appending a specific item to a list\n",
    "number_values = [3.2, 2.4]\n",
    "number_values.append([6.5, 1.4, 4.9])\n",
    "\n",
    "print(number_values)"
   ]
  },
  {
   "cell_type": "code",
   "execution_count": null,
   "metadata": {},
   "outputs": [],
   "source": [
    "# appending all items of a specific item to a list\n",
    "\n",
    "number_values = [3.2, 2.4]\n",
    "number_values.extend([6.5, 1.4, 4.9])\n",
    "\n",
    "print(number_values)"
   ]
  },
  {
   "attachments": {},
   "cell_type": "markdown",
   "metadata": {},
   "source": [
    "## Tuples"
   ]
  },
  {
   "cell_type": "code",
   "execution_count": null,
   "metadata": {},
   "outputs": [],
   "source": [
    "# a sample tuple\n",
    "fruits = (\"apple\", \"lemon\", \"cherry\")\n",
    "\n",
    "print(fruits[2])"
   ]
  },
  {
   "cell_type": "code",
   "execution_count": null,
   "metadata": {},
   "outputs": [],
   "source": [
    "# what happens if we try to change an element inside a tuple?\n",
    "fruits[0] = \"banana\""
   ]
  },
  {
   "cell_type": "code",
   "execution_count": null,
   "metadata": {},
   "outputs": [],
   "source": [
    "# we'll learn more about (try except) syntax in exception handling part of the course \n",
    "try:\n",
    "    fruits[0] = \"banana\"\n",
    "except:\n",
    "    print(\"a tuple element can not be changed...\")"
   ]
  },
  {
   "cell_type": "code",
   "execution_count": null,
   "metadata": {},
   "outputs": [],
   "source": [
    "type(fruits)"
   ]
  },
  {
   "cell_type": "code",
   "execution_count": null,
   "metadata": {},
   "outputs": [],
   "source": [
    "fruits.index(\"apple\")"
   ]
  },
  {
   "cell_type": "code",
   "execution_count": null,
   "metadata": {},
   "outputs": [],
   "source": [
    "# we can't add elements to a tuple because of its immutable nature\n",
    "# however, we can still join two tuples with a “+” operator\n",
    "\n",
    "first_tuple = (1,2,3)\n",
    "second_tuple = (4,5,6)\n",
    "\n",
    "merged_tuple = first_tuple + second_tuple\n",
    "\n",
    "print(merged_tuple)"
   ]
  },
  {
   "cell_type": "code",
   "execution_count": null,
   "metadata": {},
   "outputs": [],
   "source": [
    "# creating a tuple element with only one element?\n",
    "another_tuple = (2)"
   ]
  },
  {
   "cell_type": "code",
   "execution_count": null,
   "metadata": {},
   "outputs": [],
   "source": [
    "type(another_tuple)"
   ]
  },
  {
   "cell_type": "code",
   "execution_count": null,
   "metadata": {},
   "outputs": [],
   "source": [
    "# creating a tuple element with only one element (the right way)\n",
    "another_tuple_ = (2,)\n",
    "\n",
    "type(another_tuple_)"
   ]
  },
  {
   "attachments": {},
   "cell_type": "markdown",
   "metadata": {},
   "source": [
    "## Dictionaries"
   ]
  },
  {
   "cell_type": "code",
   "execution_count": null,
   "metadata": {},
   "outputs": [],
   "source": [
    "new_club_member = {\n",
    "    \"name\": \"Mehrdad\",\n",
    "    \"birth_date\": \"11/29/2001\",\n",
    "    \"rating\": 9.5,\n",
    "    \"memberships\": [\"gym\", \"pool\", \"aerobics\"]\n",
    "}"
   ]
  },
  {
   "cell_type": "code",
   "execution_count": null,
   "metadata": {},
   "outputs": [],
   "source": [
    "print(new_club_member[\"rating\"])"
   ]
  },
  {
   "cell_type": "code",
   "execution_count": null,
   "metadata": {},
   "outputs": [],
   "source": [
    "type(new_club_member[\"name\"])"
   ]
  },
  {
   "cell_type": "code",
   "execution_count": null,
   "metadata": {},
   "outputs": [],
   "source": [
    "type(new_club_member[\"memberships\"])"
   ]
  },
  {
   "cell_type": "code",
   "execution_count": null,
   "metadata": {},
   "outputs": [],
   "source": [
    "# add a new <key, value> pair\n",
    "new_club_member[\"nationality\"] = \"Iranian\"\n",
    "\n",
    "print(new_club_member)"
   ]
  },
  {
   "cell_type": "code",
   "execution_count": null,
   "metadata": {
    "collapsed": false,
    "pycharm": {
     "name": "#%%\n"
    }
   },
   "outputs": [],
   "source": [
    "# change key in the dictionary\n",
    "new_club_member[\"username\"] = new_club_member.pop(\"name\")\n",
    "print(new_club_member)"
   ]
  },
  {
   "cell_type": "code",
   "execution_count": null,
   "metadata": {
    "collapsed": false,
    "pycharm": {
     "name": "#%%\n"
    }
   },
   "outputs": [],
   "source": [
    "# change value in the dictionary\n",
    "new_club_member[\"rating\"] = 8\n",
    "print(new_club_member)"
   ]
  },
  {
   "cell_type": "code",
   "execution_count": null,
   "metadata": {},
   "outputs": [],
   "source": [
    "sample_dict = dict()\n",
    "\n",
    "sample_dict[0]   = 'one'\n",
    "sample_dict['1'] = 'two'\n",
    "sample_dict[1]   = 3\n",
    "sample_dict[1.5] = 4.01\n",
    "\n",
    "sample_dict"
   ]
  },
  {
   "cell_type": "code",
   "execution_count": null,
   "metadata": {},
   "outputs": [],
   "source": [
    "# accessing all the keys in a dictionary\n",
    "sample_dict.keys()"
   ]
  },
  {
   "cell_type": "code",
   "execution_count": null,
   "metadata": {},
   "outputs": [],
   "source": [
    "# converting dictionary keys to a list\n",
    "list(sample_dict.keys())"
   ]
  },
  {
   "cell_type": "code",
   "execution_count": null,
   "metadata": {},
   "outputs": [],
   "source": [
    "# accessing all the values in a dictionary\n",
    "sample_dict.values()"
   ]
  },
  {
   "cell_type": "code",
   "execution_count": null,
   "metadata": {},
   "outputs": [],
   "source": [
    "# converting dictionary values to a list\n",
    "list(sample_dict.values())"
   ]
  },
  {
   "attachments": {},
   "cell_type": "markdown",
   "metadata": {},
   "source": [
    "## Sets"
   ]
  },
  {
   "cell_type": "code",
   "execution_count": null,
   "metadata": {},
   "outputs": [],
   "source": [
    "my_skillset = {'engineering principles', 'programming'}\n",
    "\n",
    "print(my_skillset)"
   ]
  },
  {
   "cell_type": "code",
   "execution_count": null,
   "metadata": {},
   "outputs": [],
   "source": [
    "print(\"programming\" in my_skillset)"
   ]
  },
  {
   "cell_type": "code",
   "execution_count": null,
   "metadata": {},
   "outputs": [],
   "source": [
    "# add a new item to set\n",
    "my_skillset.add(\"machine learning\")\n",
    "\n",
    "my_skillset"
   ]
  },
  {
   "cell_type": "code",
   "execution_count": null,
   "metadata": {},
   "outputs": [],
   "source": [
    "my_skillset.add(5.95)\n",
    "\n",
    "my_skillset"
   ]
  },
  {
   "cell_type": "code",
   "execution_count": null,
   "metadata": {},
   "outputs": [],
   "source": [
    "# remove specific item\n",
    "my_skillset.remove(5.95)\n",
    "\n",
    "my_skillset"
   ]
  },
  {
   "cell_type": "code",
   "execution_count": null,
   "metadata": {},
   "outputs": [],
   "source": [
    "# remove the last item?? :: keep in mind that sets are unordered, so you may not know for sure which item is the last one\n",
    "# the unknown last item gets removed if you use pop()\n",
    "my_skillset.pop()\n",
    "\n",
    "my_skillset"
   ]
  },
  {
   "cell_type": "code",
   "execution_count": null,
   "metadata": {},
   "outputs": [],
   "source": [
    "# using sets to remove duplicate items\n",
    "\n",
    "list_with_duplicates = [4, 5, 9, 11, 5, 11, 16, 19]\n",
    "\n",
    "new_set = set(list_with_duplicates)\n",
    "print(new_set)"
   ]
  },
  {
   "cell_type": "code",
   "execution_count": null,
   "metadata": {},
   "outputs": [],
   "source": [
    "# converting back to list\n",
    "list_with_no_duplicates = list(new_set)\n",
    "\n",
    "list_with_no_duplicates\n"
   ]
  },
  {
   "cell_type": "code",
   "execution_count": null,
   "metadata": {},
   "outputs": [],
   "source": [
    "# doing it all in one line\n",
    "list(set(list_with_duplicates))"
   ]
  },
  {
   "attachments": {},
   "cell_type": "markdown",
   "metadata": {},
   "source": [
    "## Defining Empty Data Types"
   ]
  },
  {
   "cell_type": "code",
   "execution_count": null,
   "metadata": {},
   "outputs": [],
   "source": [
    "# empty list\n",
    "\n",
    "my_list = []\n",
    "# or\n",
    "my_list = list()\n",
    "\n",
    "type(my_list)"
   ]
  },
  {
   "cell_type": "code",
   "execution_count": null,
   "metadata": {},
   "outputs": [],
   "source": [
    "# empty tuple\n",
    "\n",
    "my_tuple = ()\n",
    "# or\n",
    "my_tuple = tuple()\n",
    "\n",
    "type(my_tuple)"
   ]
  },
  {
   "cell_type": "code",
   "execution_count": null,
   "metadata": {},
   "outputs": [],
   "source": [
    "# empty dictionary\n",
    "\n",
    "my_dictionary = {}\n",
    "# or\n",
    "my_dictionary = dict()\n",
    "\n",
    "type(my_dictionary)\n"
   ]
  },
  {
   "cell_type": "code",
   "execution_count": null,
   "metadata": {},
   "outputs": [],
   "source": [
    "# empty set\n",
    "\n",
    "my_set = set()\n",
    "\n",
    "type(my_set)"
   ]
  },
  {
   "cell_type": "markdown",
   "metadata": {},
   "source": [
    "## Simple Built-in Functions for Working with Numbers & Iterables"
   ]
  },
  {
   "cell_type": "code",
   "execution_count": null,
   "metadata": {},
   "outputs": [],
   "source": [
    "# minimum value of arguments\n",
    "min(1, 2, 3)"
   ]
  },
  {
   "cell_type": "code",
   "execution_count": null,
   "metadata": {},
   "outputs": [],
   "source": [
    "# item with the minimum value in an iterable object\n",
    "numbers_list = [5,9,2]\n",
    "min(numbers_list)"
   ]
  },
  {
   "cell_type": "code",
   "execution_count": null,
   "metadata": {},
   "outputs": [],
   "source": [
    "# maximum value of arguments\n",
    "max(1, 2, 3)"
   ]
  },
  {
   "cell_type": "code",
   "execution_count": null,
   "metadata": {},
   "outputs": [],
   "source": [
    "# item with the maximum value in an iterable object\n",
    "numbers_tuple = (9, 18, 1, 87)\n",
    "max(numbers_tuple)"
   ]
  },
  {
   "cell_type": "code",
   "execution_count": null,
   "metadata": {},
   "outputs": [],
   "source": [
    "# calculate the total of all numerical values in an iterable\n",
    "numbers_list = [5,6,4,11,2,19]\n",
    "sum(numbers_list)"
   ]
  },
  {
   "cell_type": "markdown",
   "metadata": {},
   "source": [
    "## Data Types and Assignment Operator"
   ]
  },
  {
   "cell_type": "markdown",
   "metadata": {},
   "source": [
    "#### Name Alias\n",
    "\n",
    "**Assignment Diagram for 1st Scenario (Name Alias):**\n",
    "\n",
    "![Name Alias](figures/02_assignment.png)\n",
    "\n",
    "<sub><sub>_image credits: https://stackoverflow.com/a/3975388_</sub></sub>"
   ]
  },
  {
   "cell_type": "code",
   "execution_count": null,
   "metadata": {},
   "outputs": [],
   "source": [
    "a = {1: [1,2,3]}\n",
    "\n",
    "# reference assignment: make 'a' and 'b' point to the same object\n",
    "# 'b' becomes an alias for 'a'\n",
    "b = a\n",
    "\n",
    "# print object IDs before any value modification\n",
    "print('id of object \"a\" before assignment:', id(a))\n",
    "print('id of object \"b\" before assignment:', id(b))\n",
    "print('id of the item inside \"a\" before assignment:', id(a[1]))\n",
    "print('id of the item inside \"b\" before assignment:', id(b[1]), '\\n')\n",
    "\n",
    "# modify the value of the element '1' inside 'b'\n",
    "b[1] = 'modified!' # modification happens on the object\n",
    "\n",
    "# print object IDs after value modification\n",
    "print('After modification:')\n",
    "print('content of object \"a\":', a)\n",
    "print('content of object \"b\":', b)\n",
    "print('id of the item inside \"a\" after assignment:', id(a[1]))\n",
    "print('id of the item inside \"b\" after assignment:', id(b[1]))"
   ]
  },
  {
   "cell_type": "markdown",
   "metadata": {},
   "source": [
    "<hr>\n",
    "\n",
    "#### Shallow Copy\n",
    "\n",
    "**Assignment Diagram for 2nd Scenario (Shallow Copy):**\n",
    "\n",
    "![Shallow Copy](./figures/02_shallow-copy.png)\n",
    "\n",
    "<sub><sub>_image credits: https://stackoverflow.com/a/3975388_</sub></sub>"
   ]
  },
  {
   "cell_type": "code",
   "execution_count": null,
   "metadata": {},
   "outputs": [],
   "source": [
    "import copy"
   ]
  },
  {
   "cell_type": "code",
   "execution_count": null,
   "metadata": {},
   "outputs": [],
   "source": [
    "a = {1: [1,2,3]}\n",
    "\n",
    "# shallow copying: 'a' and 'b' will become two isolated objects, but their contents still share the same reference, unless one of them gets modified\n",
    "# so basically, what you have is two distinct objects that share the same set of elements at the time of creation\n",
    "# as soon as a change is made to the elements of either side, the reference for modified element gets updated as well\n",
    "\n",
    "b = copy.copy(a) # or b = a.copy()\n",
    "\n",
    "# print object IDs before any value modification\n",
    "print('id of object \"a\" before assignment:', id(a))\n",
    "print('id of object \"b\" before assignment:', id(b))\n",
    "print('id of the item inside \"a\" before assignment:', id(a[1]))\n",
    "print('id of the item inside \"b\" before assignment:', id(b[1]), '\\n')\n",
    "\n",
    "# modify the value of the element '1' inside 'b'\n",
    "b[1] = 'modified!'\n",
    "\n",
    "# print object IDs after value modification\n",
    "print('After modification:')\n",
    "print('content of object \"a\":', a)\n",
    "print('content of object \"b\":', b)\n",
    "print('id of the item inside \"a\" after assignment:', id(a[1]))\n",
    "print('id of the item inside \"b\" after assignment:', id(b[1]))"
   ]
  },
  {
   "cell_type": "markdown",
   "metadata": {},
   "source": [
    "<hr>\n",
    "\n",
    "#### Deep Copy\n",
    "\n",
    "**Assignment Diagram for 3rd Scenario (Deep Copy):**\n",
    "\n",
    "![Deep Copy](figures/02_deep-copy.png)\n",
    "\n",
    "<sub><sub>_image credits: https://stackoverflow.com/a/3975388_</sub></sub>"
   ]
  },
  {
   "cell_type": "code",
   "execution_count": null,
   "metadata": {},
   "outputs": [],
   "source": [
    "a = {1: [1,2,3]}\n",
    "\n",
    "# deep copying: 'a' and 'b' structure and content become completely isolated\n",
    "# a recursive copy process is carried out, and copies of all child objects are created\n",
    "\n",
    "b = copy.deepcopy(a)\n",
    "\n",
    "# print object IDs before any value modification\n",
    "print('id of object \"a\" before assignment:', id(a))\n",
    "print('id of object \"b\" before assignment:', id(b))\n",
    "print('id of the item inside \"a\" before assignment:', id(a[1]))\n",
    "print('id of the item inside \"b\" before assignment:', id(b[1]), '\\n')\n",
    "\n",
    "# modify the value of the element '1' inside 'b'\n",
    "b[1] = 'modified!'\n",
    "\n",
    "print('After modification:')\n",
    "print('content of object \"a\":', a)\n",
    "print('content of object \"b\":', b)\n",
    "print('id of the item inside \"a\" after assignment:', id(a[1]))\n",
    "print('id of the item inside \"b\" after assignment:', id(b[1]))"
   ]
  },
  {
   "cell_type": "markdown",
   "metadata": {},
   "source": [
    "<hr>\n",
    "\n",
    "## Identity Operators\n",
    "\n",
    "We are already familiar wth **assignment (=)** and **value equality comparison (==)** operators.\n",
    "\n",
    "It is time to get to know **identity (is)** operator."
   ]
  },
  {
   "cell_type": "code",
   "execution_count": null,
   "metadata": {},
   "outputs": [],
   "source": [
    "x = [\"ISLab\", \"Python\", \"Class\"] # value assignment\n",
    "y = [\"ISLab\", \"Python\", \"Class\"] # value assignment\n",
    "z = x"
   ]
  },
  {
   "cell_type": "code",
   "execution_count": null,
   "metadata": {},
   "outputs": [],
   "source": [
    "# identity check\n",
    "x is z"
   ]
  },
  {
   "cell_type": "code",
   "execution_count": null,
   "metadata": {},
   "outputs": [],
   "source": [
    "# identity check\n",
    "x is not z"
   ]
  },
  {
   "cell_type": "code",
   "execution_count": null,
   "metadata": {},
   "outputs": [],
   "source": [
    "print(\n",
    "    f'content of x: {x}',\n",
    "    f'id of object \"x\" in memory: {id(x)}',\n",
    "    '\\n',\n",
    "    f'content of z: {z}',\n",
    "    f'id of object \"z\" in memory: {id(z)}',\n",
    "    sep='\\n'\n",
    ")"
   ]
  },
  {
   "cell_type": "code",
   "execution_count": null,
   "metadata": {},
   "outputs": [],
   "source": [
    "# identity check\n",
    "x is y"
   ]
  },
  {
   "cell_type": "code",
   "execution_count": null,
   "metadata": {},
   "outputs": [],
   "source": [
    "# identity check\n",
    "x is not y"
   ]
  },
  {
   "cell_type": "code",
   "execution_count": null,
   "metadata": {},
   "outputs": [],
   "source": [
    "print(\n",
    "    f'content of x: {x}',\n",
    "    f'id of object \"x\" in memory: {id(x)}',\n",
    "    '\\n',\n",
    "    f'content of y: {y}',\n",
    "    f'id of object \"y\" in memory: {id(y)}',\n",
    "    sep='\\n'\n",
    ")"
   ]
  },
  {
   "cell_type": "code",
   "execution_count": null,
   "metadata": {},
   "outputs": [],
   "source": [
    "# value check\n",
    "x == y"
   ]
  },
  {
   "cell_type": "code",
   "execution_count": null,
   "metadata": {},
   "outputs": [],
   "source": [
    "# value check\n",
    "x != y"
   ]
  },
  {
   "cell_type": "code",
   "execution_count": null,
   "metadata": {},
   "outputs": [],
   "source": [
    "# value check\n",
    "z == y"
   ]
  },
  {
   "cell_type": "code",
   "execution_count": null,
   "metadata": {},
   "outputs": [],
   "source": [
    "# value assignment\n",
    "a, b = 5, 5"
   ]
  },
  {
   "cell_type": "code",
   "execution_count": null,
   "metadata": {},
   "outputs": [],
   "source": [
    "# identity check\n",
    "a is b"
   ]
  },
  {
   "cell_type": "code",
   "execution_count": null,
   "metadata": {},
   "outputs": [],
   "source": [
    "print(\n",
    "    f'content of a: {a}',\n",
    "    f'id of \"a\" in memory: {id(a)}',\n",
    "    '\\n',\n",
    "    f'content of b: {b}',\n",
    "    f'id of \"b\" in memory: {id(b)}',\n",
    "    sep='\\n'\n",
    ")"
   ]
  },
  {
   "cell_type": "markdown",
   "metadata": {},
   "source": [
    "So, please be careful, these three operators are totally different notions and should not be confused with one another:\n",
    "> __`=`__ vs. __`==`__ vs. __`is`__"
   ]
  }
 ],
 "metadata": {
  "kernelspec": {
   "display_name": "base",
   "language": "python",
   "name": "python3"
  },
  "language_info": {
   "codemirror_mode": {
    "name": "ipython",
    "version": 3
   },
   "file_extension": ".py",
   "mimetype": "text/x-python",
   "name": "python",
   "nbconvert_exporter": "python",
   "pygments_lexer": "ipython3",
   "version": "3.9.17"
  },
  "orig_nbformat": 4,
  "vscode": {
   "interpreter": {
    "hash": "e4cce46d6be9934fbd27f9ca0432556941ea5bdf741d4f4d64c6cd7f8dfa8fba"
   }
  }
 },
 "nbformat": 4,
 "nbformat_minor": 2
}
