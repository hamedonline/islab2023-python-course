{
 "cells": [
  {
   "cell_type": "markdown",
   "metadata": {},
   "source": [
    "# Exercises for Session 1"
   ]
  },
  {
   "cell_type": "markdown",
   "metadata": {},
   "source": [
    "## Exercise 1.1\n",
    "If you don’t already have Python installed on your system, get it setup and running using the guidelines inside teaching material of session 1 and re-watching the demo for installation.\n",
    "\n",
    "Next, go ahead with answering the second question."
   ]
  },
  {
   "cell_type": "markdown",
   "metadata": {},
   "source": [
    "## Exercise 1.2\n",
    "Suppose we have a variable of string type such as the following:\n",
    "\n",
    "```python\n",
    "some_var = \"14.39\"\n",
    "```\n",
    "\n",
    "What is the simplest one-liner way to extract the integer part of the number represented in above string?\n",
    "\n",
    "Hint: try to use built-in data conversion methods."
   ]
  },
  {
   "cell_type": "code",
   "execution_count": null,
   "metadata": {},
   "outputs": [],
   "source": [
    "# your answer goes here\n"
   ]
  }
 ],
 "metadata": {
  "kernelspec": {
   "display_name": "base",
   "language": "python",
   "name": "python3"
  },
  "language_info": {
   "name": "python",
   "version": "3.9.17"
  },
  "orig_nbformat": 4
 },
 "nbformat": 4,
 "nbformat_minor": 2
}
