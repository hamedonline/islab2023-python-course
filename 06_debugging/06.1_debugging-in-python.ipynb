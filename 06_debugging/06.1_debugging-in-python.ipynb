{
 "cells": [
  {
   "cell_type": "markdown",
   "id": "39b21a06",
   "metadata": {},
   "source": [
    "# Debugging in Python"
   ]
  },
  {
   "attachments": {},
   "cell_type": "markdown",
   "id": "edd56c1e",
   "metadata": {},
   "source": [
    "## Assertion"
   ]
  },
  {
   "cell_type": "code",
   "execution_count": null,
   "id": "de9d4b00",
   "metadata": {},
   "outputs": [],
   "source": [
    "# initializing numbers\n",
    "a = 6\n",
    "b = 2\n",
    "\n",
    "# using assert to check for 0\n",
    "print(\"The result of a/b is: \")\n",
    "assert b != 0\n",
    "print(a / b)"
   ]
  },
  {
   "cell_type": "code",
   "execution_count": null,
   "id": "e9257ea5",
   "metadata": {},
   "outputs": [],
   "source": [
    "# initializing numbers\n",
    "a = 6\n",
    "b = 0\n",
    "\n",
    "# using assert to check for 0\n",
    "print(\"The result of a/b is: \")\n",
    "assert b != 0\n",
    "print(a / b)"
   ]
  },
  {
   "cell_type": "code",
   "execution_count": null,
   "id": "c387163a",
   "metadata": {},
   "outputs": [],
   "source": [
    "# initializing numbers\n",
    "a = 6\n",
    "b = 0\n",
    "\n",
    "# using assert to check for 0\n",
    "print(\"The result of a/b is: \")\n",
    "print(a / b)"
   ]
  },
  {
   "cell_type": "code",
   "execution_count": null,
   "id": "d257e62e",
   "metadata": {},
   "outputs": [],
   "source": [
    "# initializing numbers\n",
    "a = 6\n",
    "b = 0\n",
    "\n",
    "# using assert to check for 0\n",
    "print(\"The value of a / b is : \")\n",
    "assert b != 0, \"Error for Zero Division\"\n",
    "print(a / b)"
   ]
  },
  {
   "cell_type": "code",
   "execution_count": null,
   "metadata": {
    "collapsed": false,
    "pycharm": {
     "name": "#%%\n"
    }
   },
   "outputs": [],
   "source": [
    "# initializing numbers\n",
    "a = 6\n",
    "b = 0\n",
    "\n",
    "# using assert to check for 0\n",
    "print(\"The value of a / b is : \")\n",
    "assert (b != 0), (\"Error for Zero Division\") # refer to PEP 679\n",
    "print(a / b)"
   ]
  },
  {
   "cell_type": "code",
   "execution_count": null,
   "metadata": {
    "collapsed": false,
    "pycharm": {
     "name": "#%%\n"
    }
   },
   "outputs": [],
   "source": [
    "# initializing strings\n",
    "a = \"apple\"\n",
    "b = \"cherry\"\n",
    "\n",
    "# using assert to compare a and b\n",
    "print(\"The values of a and b are\", end = \" \")\n",
    "assert a == b, \"Error for value inequality\"\n",
    "print(\"the same\")"
   ]
  },
  {
   "cell_type": "code",
   "execution_count": null,
   "id": "e3855411",
   "metadata": {},
   "outputs": [],
   "source": [
    "def calculate_rectangle_area(length: float, width: float) -> float:\n",
    "    \"\"\" Function to calculate the area of a rectangle.\n",
    "\n",
    "    Args:\n",
    "        length (float): Length of the rectangle.\n",
    "        width (float): Width of the rectangle.\n",
    "\n",
    "    Returns:\n",
    "        float: Area size of the rectangle.\n",
    "    \"\"\"\n",
    "\n",
    "    # assertion to check that the length and width are positive\n",
    "    assert length > 0 and width > 0, \"Length and width must be positive\"\n",
    "\n",
    "    area = length * width  # calculation of the area of rectangle\n",
    "    return area"
   ]
  },
  {
   "cell_type": "code",
   "execution_count": null,
   "id": "c0b61baa",
   "metadata": {},
   "outputs": [],
   "source": [
    "# calling the function with positive inputs\n",
    "print(\"Area of rectangle with length 2 and width 3 is\", calculate_rectangle_area(2, 3))"
   ]
  },
  {
   "cell_type": "code",
   "execution_count": null,
   "id": "d0c93710",
   "metadata": {},
   "outputs": [],
   "source": [
    "# calling the function with negative inputs\n",
    "print(\"Area of rectangle with length 2 and width -3 is\", calculate_rectangle_area(2, -3))"
   ]
  },
  {
   "cell_type": "code",
   "execution_count": null,
   "id": "f8187842",
   "metadata": {},
   "outputs": [],
   "source": [
    "def my_sum(a,b):      \n",
    "    # asserting the type of a variable\n",
    "    assert type(a) == int, \"First parameter must be an integer value\"\n",
    "    assert type(b) == int, \"Second parameter must be an integer value\"\n",
    "    # assert type(a) == int and type(b) == int, \"Both parameters must be integer values\"\n",
    "\n",
    "    print(a+b)"
   ]
  },
  {
   "cell_type": "code",
   "execution_count": null,
   "id": "45037ed4",
   "metadata": {},
   "outputs": [],
   "source": [
    "my_sum(1, 2)"
   ]
  },
  {
   "cell_type": "code",
   "execution_count": null,
   "id": "e4a5df81",
   "metadata": {},
   "outputs": [],
   "source": [
    "my_sum('1', 2)"
   ]
  },
  {
   "cell_type": "code",
   "execution_count": null,
   "id": "573bf633",
   "metadata": {},
   "outputs": [],
   "source": [
    "my_sum(1, '2')"
   ]
  },
  {
   "cell_type": "code",
   "execution_count": null,
   "id": "083e0893",
   "metadata": {},
   "outputs": [],
   "source": [
    "# defining a List, supposedly containing integer temperature values with 2 digits\n",
    "my_list = [12, 23, 48, 31, 58, 3]\n",
    "\n",
    "# using assert to check for temperatures\n",
    "for item in my_list:\n",
    "    assert 9<item<100, f\"Number {item} is not a 2 digits number.\"\n",
    "    print(str(item) + \" is a 2 digits number.\")"
   ]
  },
  {
   "cell_type": "code",
   "execution_count": null,
   "id": "2fd162f1",
   "metadata": {},
   "outputs": [],
   "source": [
    "def return_list_value_by_positive_index(index, my_list):\n",
    "    # assert index > 0, \"Negative index is not accepted\"\n",
    "    return my_list[index]"
   ]
  },
  {
   "cell_type": "code",
   "execution_count": null,
   "id": "735aef78",
   "metadata": {},
   "outputs": [],
   "source": [
    "my_list = [10,20,30,40]\n",
    "max_index = my_list.index(max(my_list))\n",
    "return_list_value_by_positive_index(max_index,my_list)"
   ]
  },
  {
   "cell_type": "code",
   "execution_count": null,
   "id": "8c706269",
   "metadata": {},
   "outputs": [],
   "source": [
    "my_list = [10,20,30,40]\n",
    "max_index = -1 * my_list.index(max(my_list))\n",
    "return_list_value_by_positive_index(max_index,my_list)"
   ]
  },
  {
   "attachments": {},
   "cell_type": "markdown",
   "id": "4a9f2112",
   "metadata": {},
   "source": [
    "## Errors"
   ]
  },
  {
   "attachments": {},
   "cell_type": "markdown",
   "id": "7df7bc3e",
   "metadata": {},
   "source": [
    "### Syntax Error"
   ]
  },
  {
   "cell_type": "code",
   "execution_count": null,
   "id": "df420156",
   "metadata": {},
   "outputs": [],
   "source": [
    "while True print('Python')"
   ]
  },
  {
   "cell_type": "code",
   "execution_count": null,
   "id": "3823f274",
   "metadata": {},
   "outputs": [],
   "source": [
    "if (a<3):\n",
    "print(\"gfg\")"
   ]
  },
  {
   "cell_type": "code",
   "execution_count": null,
   "id": "3d324f8d",
   "metadata": {},
   "outputs": [],
   "source": [
    "print(min(1,2 3))"
   ]
  },
  {
   "cell_type": "code",
   "execution_count": null,
   "id": "7bd1ff55",
   "metadata": {},
   "outputs": [],
   "source": [
    "def func(a=1, b):\n",
    "    pass"
   ]
  },
  {
   "cell_type": "markdown",
   "metadata": {
    "collapsed": false
   },
   "source": [
    "### FileNotFoundError"
   ]
  },
  {
   "cell_type": "code",
   "execution_count": null,
   "metadata": {
    "collapsed": false,
    "pycharm": {
     "name": "#%%\n"
    }
   },
   "outputs": [],
   "source": [
    "open(\"nonexistent_file.txt\")"
   ]
  },
  {
   "cell_type": "markdown",
   "metadata": {
    "collapsed": false
   },
   "source": [
    "### Logical Error"
   ]
  },
  {
   "cell_type": "code",
   "execution_count": null,
   "metadata": {
    "collapsed": false,
    "pycharm": {
     "is_executing": true,
     "name": "#%%\n"
    }
   },
   "outputs": [],
   "source": [
    "def calculate_average(numbers):\n",
    "    total = sum(numbers)\n",
    "    average = total / len(numbers)+1 # this formula is logically wrong, but no error gets displayed for the logical mistakes that we as a programmer make\n",
    "    return average\n",
    "\n",
    "numbers = [10, 20, 30, 40, 50]\n",
    "avg = calculate_average(numbers)\n",
    "print(f\"The average is: {avg}\")"
   ]
  },
  {
   "cell_type": "markdown",
   "id": "df9875cb",
   "metadata": {},
   "source": [
    "### Other Errors"
   ]
  },
  {
   "cell_type": "code",
   "execution_count": null,
   "id": "bdd444a3",
   "metadata": {},
   "outputs": [],
   "source": [
    "# ZeroDivisionError\n",
    "a, b = 3, 0\n",
    "a/b"
   ]
  },
  {
   "cell_type": "code",
   "execution_count": null,
   "id": "af686e47",
   "metadata": {},
   "outputs": [],
   "source": [
    "# TypeError\n",
    "print('number is: '+a)"
   ]
  },
  {
   "cell_type": "code",
   "execution_count": null,
   "id": "d95ebf0d",
   "metadata": {},
   "outputs": [],
   "source": [
    "# NameError\n",
    "y = 4*x + 3"
   ]
  },
  {
   "cell_type": "code",
   "execution_count": null,
   "metadata": {
    "collapsed": false,
    "pycharm": {
     "name": "#%%\n"
    }
   },
   "outputs": [],
   "source": [
    "# Value Error\n",
    "num = int(\"Mehrdad\")"
   ]
  },
  {
   "cell_type": "code",
   "execution_count": null,
   "metadata": {
    "collapsed": false,
    "pycharm": {
     "name": "#%%\n"
    }
   },
   "outputs": [],
   "source": [
    "# IndexError\n",
    "list_of_3_int = [1, 2, 3]\n",
    "print(list_of_3_int[4])"
   ]
  },
  {
   "cell_type": "code",
   "execution_count": null,
   "metadata": {
    "collapsed": false,
    "pycharm": {
     "name": "#%%\n"
    }
   },
   "outputs": [],
   "source": [
    "# KeyError\n",
    "dict_of_a_and_b = {'a': 1, 'b': 2}\n",
    "print(dict_of_a_and_b ['c'])"
   ]
  },
  {
   "cell_type": "markdown",
   "id": "96c86b6f",
   "metadata": {},
   "source": [
    "## Exceptions"
   ]
  },
  {
   "cell_type": "markdown",
   "metadata": {
    "collapsed": false
   },
   "source": [
    "### Raising an Exception\n",
    "If you want to make your own error notes for certain condition, you can use `raise` keyword to define your desired `Exception` instance."
   ]
  },
  {
   "cell_type": "code",
   "execution_count": null,
   "metadata": {
    "collapsed": false,
    "pycharm": {
     "name": "#%%\n"
    }
   },
   "outputs": [],
   "source": [
    "x = 10\n",
    "if 9 < x < 100:\n",
    "    raise Exception(f'x is not a 2 digits number. The value of x is: {x}')"
   ]
  },
  {
   "attachments": {},
   "cell_type": "markdown",
   "id": "90dbbb54",
   "metadata": {},
   "source": [
    "### Exception Handling with `try`"
   ]
  },
  {
   "cell_type": "code",
   "execution_count": null,
   "id": "1f75510c",
   "metadata": {
    "pycharm": {
     "is_executing": true
    }
   },
   "outputs": [],
   "source": [
    "# this line of code will cause runtime error and stop program from executing\n",
    "int('a')\n",
    "print('Testing...')"
   ]
  },
  {
   "cell_type": "code",
   "execution_count": null,
   "id": "cfa82f2a",
   "metadata": {},
   "outputs": [],
   "source": [
    "try:\n",
    "    x = int(input(\"Please enter a number: \"))\n",
    "except ValueError:\n",
    "    print(\"That was not a valid number. Try again!\")"
   ]
  },
  {
   "cell_type": "code",
   "execution_count": null,
   "id": "4b61ba28",
   "metadata": {
    "pycharm": {
     "is_executing": true
    }
   },
   "outputs": [],
   "source": [
    "a, b = 4, 2\n",
    "\n",
    "# put unsafe operation in try block\n",
    "try:\n",
    "    print(\"Start division...\")\n",
    "    print(a/b)  # division operation\n",
    "\n",
    "# if an error occurs, it goes the exception block is executed\n",
    "except:\n",
    "    print(\"Zero division occurs\")\n",
    "\n",
    "# final code in finally block\n",
    "finally:\n",
    "    print(\"This line will be printed anyway.\")\n",
    "\n",
    "print(\"The cell runs to the end without termination.\")"
   ]
  },
  {
   "cell_type": "code",
   "execution_count": null,
   "id": "d32e367f",
   "metadata": {
    "pycharm": {
     "is_executing": true
    }
   },
   "outputs": [],
   "source": [
    "a, b = 4, 0\n",
    "\n",
    "# put unsafe operation in try block\n",
    "try:\n",
    "    print(\"Starting division operation...\")\n",
    "    print(a/b)  # division operation\n",
    "\n",
    "# if an error occurs, it goes the exception block is executed\n",
    "except:\n",
    "    print(\"Zero division occurs\")\n",
    "# execute if no exception happens\n",
    "else:\n",
    "    print(\"There is no zero division error\")\n",
    "\n",
    "# final code in finally block\n",
    "finally:\n",
    "    print(\"This line will be printed anyway.\")\n",
    "\n",
    "    print(\"The cell runs to the end without termination.\")"
   ]
  },
  {
   "attachments": {},
   "cell_type": "markdown",
   "id": "eee8fa9e",
   "metadata": {},
   "source": [
    "### Handling Multiple Exceptions"
   ]
  },
  {
   "cell_type": "code",
   "execution_count": null,
   "id": "e3d0ef18",
   "metadata": {
    "pycharm": {
     "is_executing": true
    }
   },
   "outputs": [],
   "source": [
    "a = 10\n",
    "b = 0\n",
    "c = '12'\n",
    "\n",
    "try:\n",
    "    # adding\n",
    "    res = a+c\n",
    "    print(res)\n",
    "# except block\n",
    "except (TypeError, SyntaxError, ValueError) as e:\n",
    "    # printing the error\n",
    "    print(f\"Error occurred==> \\t {e}\")"
   ]
  },
  {
   "cell_type": "code",
   "execution_count": null,
   "id": "12b24b41",
   "metadata": {
    "pycharm": {
     "is_executing": true
    }
   },
   "outputs": [],
   "source": [
    "a = 10\n",
    "b = 0\n",
    "c = '12'\n",
    "d = [1,2,3]\n",
    "idx = 3\n",
    "\n",
    "try:\n",
    "    res1 = a / b # division\n",
    "    res2 = d[idx] # List index\n",
    "    res3 = a + c  # adding\n",
    "# zero division error\n",
    "except ZeroDivisionError:\n",
    "    print(\"Zero Division Error occurred!\")\n",
    "    print(f\"Zero Division Error occurred! {a} is not dividable by {b}.\")\n",
    "# index error\n",
    "except IndexError:\n",
    "    print(\"Index error occurred!\")\n",
    "    print(f\"Index error occurred! List index is out of range. Cannot access List index {idx} when List length is {len(d)}.\")\n",
    "# type error\n",
    "except TypeError:\n",
    "    print(\"Type error occurred!\")\n",
    "    print(f\"Type error occurred! Cannot sum {type(a)} and {type(c)}\")"
   ]
  },
  {
   "attachments": {},
   "cell_type": "markdown",
   "id": "4c5a6c48",
   "metadata": {},
   "source": [
    "### Writing Customized Exception"
   ]
  },
  {
   "cell_type": "code",
   "execution_count": null,
   "id": "bb484748",
   "metadata": {
    "pycharm": {
     "is_executing": true
    }
   },
   "outputs": [],
   "source": [
    "num = -3\n",
    "\n",
    "try:\n",
    "    if num < 0:\n",
    "        # raise the ValueError\n",
    "        raise ValueError(\"Error =>> Please use a positive number!\")\n",
    "    else:\n",
    "        print(\"You are using positive number!\")\n",
    "\n",
    "except ValueError as e:\n",
    "    print(e)"
   ]
  },
  {
   "cell_type": "code",
   "execution_count": null,
   "metadata": {
    "collapsed": false,
    "pycharm": {
     "is_executing": true,
     "name": "#%%\n"
    }
   },
   "outputs": [],
   "source": [
    "raise ValueError(\"Error=>> Please use positive number!\")\n",
    "print(\"testing\")"
   ]
  },
  {
   "cell_type": "code",
   "execution_count": null,
   "id": "9f86b5c8",
   "metadata": {
    "pycharm": {
     "is_executing": true,
     "name": "#%%\n"
    }
   },
   "outputs": [],
   "source": [
    "try:\n",
    "    raise Exception('throwing', 'exception')\n",
    "except Exception as expt:\n",
    "    print(type(expt))\n",
    "    print(expt)\n",
    "    print(expt.args)\n",
    "    print(expt.args[0], \", \", expt.args[1])"
   ]
  }
 ],
 "metadata": {
  "kernelspec": {
   "display_name": "Python 3 (ipykernel)",
   "language": "python",
   "name": "python3"
  },
  "language_info": {
   "codemirror_mode": {
    "name": "ipython",
    "version": 3
   },
   "file_extension": ".py",
   "mimetype": "text/x-python",
   "name": "python",
   "nbconvert_exporter": "python",
   "pygments_lexer": "ipython3",
   "version": "3.9.17"
  }
 },
 "nbformat": 4,
 "nbformat_minor": 5
}
