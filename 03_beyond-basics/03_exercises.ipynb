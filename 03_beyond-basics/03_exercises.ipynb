{
 "cells": [
  {
   "cell_type": "markdown",
   "metadata": {},
   "source": [
    "# Exercises for Session 3"
   ]
  },
  {
   "cell_type": "markdown",
   "metadata": {},
   "source": [
    "## Exercise 3.1\n",
    "Can you utilize array slicing to create a method to shift array values to right or left?\n",
    "\n",
    "Here is an example for shifting array values:\n",
    "\n",
    "```python\n",
    "my_list = ['a', 'b', 'c' , 'd', 'e']\n",
    "\n",
    "# shift amount:2 // direction:right\n",
    "shifted_list = ['d', 'e', 'a', 'b', 'c']\n",
    "```\n",
    "\n",
    "Think of way that can achieve the same result only by using slicing technique."
   ]
  },
  {
   "cell_type": "markdown",
   "metadata": {},
   "source": [
    "## Exercise 3.2\n",
    "\n",
    "Go over the teaching notebook and create your desired string formatting template using `.format()` just like the example provided there. Write down your template with an example in below cell."
   ]
  },
  {
   "cell_type": "code",
   "execution_count": null,
   "metadata": {},
   "outputs": [],
   "source": [
    "# your answer goes here\n"
   ]
  },
  {
   "cell_type": "markdown",
   "metadata": {},
   "source": [
    "## Exercise 3.3\n",
    "\n",
    "Can you find a way to remove multiple extra spaces in a string?\n",
    "\n",
    "```python\n",
    "not_tidy_string = \" this is      not a tidy one.     \"\n",
    "\n",
    "# should change to:\n",
    "tidy_string = \"this is not a tidy one.\"\n",
    "```\n",
    "\n",
    "Hint: You can use the combination of two methods you've already learned in this session."
   ]
  },
  {
   "cell_type": "code",
   "execution_count": null,
   "metadata": {},
   "outputs": [],
   "source": [
    "# your answer goes here\n"
   ]
  }
 ],
 "metadata": {
  "kernelspec": {
   "display_name": "base",
   "language": "python",
   "name": "python3"
  },
  "language_info": {
   "codemirror_mode": {
    "name": "ipython",
    "version": 3
   },
   "file_extension": ".py",
   "mimetype": "text/x-python",
   "name": "python",
   "nbconvert_exporter": "python",
   "pygments_lexer": "ipython3",
   "version": "3.9.17"
  },
  "orig_nbformat": 4
 },
 "nbformat": 4,
 "nbformat_minor": 2
}
